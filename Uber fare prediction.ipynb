{
 "cells": [
  {
   "cell_type": "markdown",
   "id": "79d81dd1",
   "metadata": {
    "id": "QqA7DZ9Ek-1J"
   },
   "source": [
    "## Uber Ride Fare Prediction using Machine Learning Algorithms"
   ]
  },
  {
   "cell_type": "markdown",
   "id": "syvDVTu-k-1L",
   "metadata": {
    "id": "syvDVTu-k-1L"
   },
   "source": [
    "####"
   ]
  },
  {
   "cell_type": "code",
   "execution_count": 1,
   "id": "4b955a84",
   "metadata": {
    "executionInfo": {
     "elapsed": 1738,
     "status": "ok",
     "timestamp": 1701974428946,
     "user": {
      "displayName": "Hugo Carvalho",
      "userId": "02720238812566655242"
     },
     "user_tz": 180
    },
    "id": "4b955a84"
   },
   "outputs": [],
   "source": [
    "import numpy as np\n",
    "import random\n",
    "import matplotlib.pyplot as plt\n",
    "import plotly.express as py\n",
    "import pandas as pd\n",
    "import seaborn as sns\n",
    "import scipy.stats as stats\n",
    "from geopy.geocoders import Nominatim\n",
    "from geopy.exc import GeocoderTimedOut\n",
    "from shapely.geometry import Point\n",
    "from shapely.geometry.polygon import Polygon"
   ]
  },
  {
   "cell_type": "markdown",
   "id": "917773a6",
   "metadata": {
    "id": "afde948f"
   },
   "source": [
    "### Reading the dataset"
   ]
  },
  {
   "cell_type": "code",
   "execution_count": 2,
   "id": "be605eb3",
   "metadata": {
    "colab": {
     "base_uri": "https://localhost:8080/",
     "height": 614
    },
    "executionInfo": {
     "elapsed": 931,
     "status": "ok",
     "timestamp": 1701974651570,
     "user": {
      "displayName": "Hugo Carvalho",
      "userId": "02720238812566655242"
     },
     "user_tz": 180
    },
    "id": "be605eb3",
    "outputId": "0175b8f1-e125-4e62-ec2e-606447b2ddd2"
   },
   "outputs": [],
   "source": [
    "df = pd.read_csv('uber.csv')"
   ]
  },
  {
   "cell_type": "markdown",
   "id": "36b314df",
   "metadata": {
    "id": "b60f9c4f"
   },
   "source": [
    "### Data cleaning"
   ]
  },
  {
   "cell_type": "markdown",
   "id": "165bec14",
   "metadata": {
    "id": "ydlQTjHYk-1O"
   },
   "source": [
    "#### Dropping two columns that aren't relevant for our study"
   ]
  },
  {
   "cell_type": "code",
   "execution_count": 3,
   "id": "005d7daa",
   "metadata": {
    "executionInfo": {
     "elapsed": 344,
     "status": "ok",
     "timestamp": 1701974656663,
     "user": {
      "displayName": "Hugo Carvalho",
      "userId": "02720238812566655242"
     },
     "user_tz": 180
    },
    "id": "005d7daa"
   },
   "outputs": [],
   "source": [
    "df = df.drop(columns = ['Unnamed: 0', 'key'])"
   ]
  },
  {
   "cell_type": "markdown",
   "id": "d1288a3a",
   "metadata": {
    "id": "c0eacf0e"
   },
   "source": [
    "#### Checking the presence of null and duplicated data and removing it"
   ]
  },
  {
   "cell_type": "code",
   "execution_count": 4,
   "id": "2dc6d793",
   "metadata": {
    "colab": {
     "base_uri": "https://localhost:8080/"
    },
    "executionInfo": {
     "elapsed": 330,
     "status": "ok",
     "timestamp": 1701974658874,
     "user": {
      "displayName": "Hugo Carvalho",
      "userId": "02720238812566655242"
     },
     "user_tz": 180
    },
    "id": "2dc6d793",
    "outputId": "bedbf0e4-95ad-4d81-f131-9bfc9fc65fed"
   },
   "outputs": [
    {
     "name": "stdout",
     "output_type": "stream",
     "text": [
      "fare_amount          0\n",
      "pickup_datetime      0\n",
      "pickup_longitude     0\n",
      "pickup_latitude      0\n",
      "dropoff_longitude    1\n",
      "dropoff_latitude     1\n",
      "passenger_count      0\n",
      "dtype: int64\n"
     ]
    }
   ],
   "source": [
    "print(df.isnull().sum())"
   ]
  },
  {
   "cell_type": "code",
   "execution_count": 5,
   "id": "u_5pxcd1k-1P",
   "metadata": {
    "colab": {
     "base_uri": "https://localhost:8080/"
    },
    "executionInfo": {
     "elapsed": 491,
     "status": "ok",
     "timestamp": 1701974660920,
     "user": {
      "displayName": "Hugo Carvalho",
      "userId": "02720238812566655242"
     },
     "user_tz": 180
    },
    "id": "u_5pxcd1k-1P",
    "outputId": "ca594f6c-1e69-4ed7-b240-efb19d311349"
   },
   "outputs": [
    {
     "name": "stdout",
     "output_type": "stream",
     "text": [
      "       fare_amount          pickup_datetime  pickup_longitude  \\\n",
      "87946         24.1  2013-07-02 03:51:57 UTC        -73.950581   \n",
      "\n",
      "       pickup_latitude  dropoff_longitude  dropoff_latitude  passenger_count  \n",
      "87946        40.779692                NaN               NaN                0  \n"
     ]
    }
   ],
   "source": [
    "print(df[df.isnull().any(axis=1)])"
   ]
  },
  {
   "cell_type": "code",
   "execution_count": 6,
   "id": "gozzLkzyk-1P",
   "metadata": {
    "executionInfo": {
     "elapsed": 372,
     "status": "ok",
     "timestamp": 1701974663788,
     "user": {
      "displayName": "Hugo Carvalho",
      "userId": "02720238812566655242"
     },
     "user_tz": 180
    },
    "id": "gozzLkzyk-1P"
   },
   "outputs": [],
   "source": [
    "df = df.dropna()"
   ]
  },
  {
   "cell_type": "code",
   "execution_count": 7,
   "id": "b32815fb",
   "metadata": {
    "colab": {
     "base_uri": "https://localhost:8080/"
    },
    "executionInfo": {
     "elapsed": 405,
     "status": "ok",
     "timestamp": 1701974667757,
     "user": {
      "displayName": "Hugo Carvalho",
      "userId": "02720238812566655242"
     },
     "user_tz": 180
    },
    "id": "b32815fb",
    "outputId": "a5443ad9-b273-4b77-9451-a7bb88a689f8"
   },
   "outputs": [
    {
     "data": {
      "text/plain": [
       "0"
      ]
     },
     "execution_count": 7,
     "metadata": {},
     "output_type": "execute_result"
    }
   ],
   "source": [
    "df.duplicated().sum()"
   ]
  },
  {
   "cell_type": "markdown",
   "id": "1c888f57",
   "metadata": {
    "id": "2056159d"
   },
   "source": [
    "#### Checking the type of each column in the dataframe"
   ]
  },
  {
   "cell_type": "code",
   "execution_count": 8,
   "id": "9d4104a9",
   "metadata": {
    "colab": {
     "base_uri": "https://localhost:8080/"
    },
    "executionInfo": {
     "elapsed": 342,
     "status": "ok",
     "timestamp": 1701974670454,
     "user": {
      "displayName": "Hugo Carvalho",
      "userId": "02720238812566655242"
     },
     "user_tz": 180
    },
    "id": "9d4104a9",
    "outputId": "70aef092-d90e-47a9-af10-7fbb4bfebc6f"
   },
   "outputs": [
    {
     "name": "stdout",
     "output_type": "stream",
     "text": [
      "<class 'pandas.core.frame.DataFrame'>\n",
      "Int64Index: 199999 entries, 0 to 199999\n",
      "Data columns (total 7 columns):\n",
      " #   Column             Non-Null Count   Dtype  \n",
      "---  ------             --------------   -----  \n",
      " 0   fare_amount        199999 non-null  float64\n",
      " 1   pickup_datetime    199999 non-null  object \n",
      " 2   pickup_longitude   199999 non-null  float64\n",
      " 3   pickup_latitude    199999 non-null  float64\n",
      " 4   dropoff_longitude  199999 non-null  float64\n",
      " 5   dropoff_latitude   199999 non-null  float64\n",
      " 6   passenger_count    199999 non-null  int64  \n",
      "dtypes: float64(5), int64(1), object(1)\n",
      "memory usage: 12.2+ MB\n"
     ]
    }
   ],
   "source": [
    "df.info()"
   ]
  },
  {
   "cell_type": "markdown",
   "id": "3a5a3704",
   "metadata": {
    "id": "e8281c74"
   },
   "source": [
    "#### Analysing the \"passenger_count\" column"
   ]
  },
  {
   "cell_type": "code",
   "execution_count": 9,
   "id": "62e6dce1",
   "metadata": {
    "colab": {
     "base_uri": "https://localhost:8080/"
    },
    "executionInfo": {
     "elapsed": 2,
     "status": "ok",
     "timestamp": 1701974673001,
     "user": {
      "displayName": "Hugo Carvalho",
      "userId": "02720238812566655242"
     },
     "user_tz": 180
    },
    "id": "62e6dce1",
    "outputId": "bb49ef4f-28ad-4c04-8b00-0d658b678cc9"
   },
   "outputs": [
    {
     "data": {
      "text/plain": [
       "1      138425\n",
       "2       29428\n",
       "5       14009\n",
       "3        8881\n",
       "4        4276\n",
       "6        4271\n",
       "0         708\n",
       "208         1\n",
       "Name: passenger_count, dtype: int64"
      ]
     },
     "execution_count": 9,
     "metadata": {},
     "output_type": "execute_result"
    }
   ],
   "source": [
    "df['passenger_count'].value_counts()"
   ]
  },
  {
   "cell_type": "markdown",
   "id": "9ca5c42e",
   "metadata": {
    "id": "d0c4f44a"
   },
   "source": [
    "#### We can notice that there is an unrealistic case where there is a ride with 208 passengers, which we will remove from the analysis.\n",
    "#### Additionally, there are 708 rides with 0 passengers. Uber's delivery service didn't exist on the years of the data present. Therefore, I have chosen to exclude rides without passengers from the dataframe."
   ]
  },
  {
   "cell_type": "code",
   "execution_count": 10,
   "id": "10e08369",
   "metadata": {
    "colab": {
     "base_uri": "https://localhost:8080/"
    },
    "executionInfo": {
     "elapsed": 416,
     "status": "ok",
     "timestamp": 1701974687708,
     "user": {
      "displayName": "Hugo Carvalho",
      "userId": "02720238812566655242"
     },
     "user_tz": 180
    },
    "id": "10e08369",
    "outputId": "fb19f7bf-d9ac-4eec-b1ea-ea9f293fb349"
   },
   "outputs": [
    {
     "data": {
      "text/plain": [
       "1    138425\n",
       "2     29428\n",
       "5     14009\n",
       "3      8881\n",
       "4      4276\n",
       "6      4271\n",
       "Name: passenger_count, dtype: int64"
      ]
     },
     "execution_count": 10,
     "metadata": {},
     "output_type": "execute_result"
    }
   ],
   "source": [
    "df = df[(df['passenger_count'] != 208) & (df['passenger_count'] != 0)]\n",
    "df['passenger_count'].value_counts()"
   ]
  },
  {
   "cell_type": "markdown",
   "id": "1e94e2fe",
   "metadata": {
    "id": "3VS4lY_pk-1Q"
   },
   "source": [
    "#### Analysing \"fare_amount\""
   ]
  },
  {
   "cell_type": "code",
   "execution_count": 11,
   "id": "5507c859",
   "metadata": {
    "colab": {
     "base_uri": "https://localhost:8080/"
    },
    "executionInfo": {
     "elapsed": 2,
     "status": "ok",
     "timestamp": 1701974690047,
     "user": {
      "displayName": "Hugo Carvalho",
      "userId": "02720238812566655242"
     },
     "user_tz": 180
    },
    "id": "5507c859",
    "outputId": "72bc4b50-5697-462c-932f-3eb4dc9419a4"
   },
   "outputs": [
    {
     "data": {
      "text/plain": [
       "count    199290.000000\n",
       "mean         11.366713\n",
       "std           9.910588\n",
       "min         -52.000000\n",
       "25%           6.000000\n",
       "50%           8.500000\n",
       "75%          12.500000\n",
       "max         499.000000\n",
       "Name: fare_amount, dtype: float64"
      ]
     },
     "execution_count": 11,
     "metadata": {},
     "output_type": "execute_result"
    }
   ],
   "source": [
    "df['fare_amount'].describe()"
   ]
  },
  {
   "cell_type": "code",
   "execution_count": 12,
   "id": "QQEjE5Oek-1Q",
   "metadata": {
    "colab": {
     "base_uri": "https://localhost:8080/"
    },
    "executionInfo": {
     "elapsed": 316,
     "status": "ok",
     "timestamp": 1701974693348,
     "user": {
      "displayName": "Hugo Carvalho",
      "userId": "02720238812566655242"
     },
     "user_tz": 180
    },
    "id": "QQEjE5Oek-1Q",
    "outputId": "4d873024-12aa-4415-d8d8-1074107ee5e3"
   },
   "outputs": [
    {
     "data": {
      "text/plain": [
       " 4.50     8209\n",
       " 5.70     5825\n",
       " 5.30     5803\n",
       " 4.90     5540\n",
       " 4.10     4188\n",
       " 5.50     3987\n",
       " 5.00     3768\n",
       " 3.70     2849\n",
       " 4.00     2072\n",
       " 3.30     1379\n",
       " 3.50     1088\n",
       " 2.50      820\n",
       " 2.90      473\n",
       " 3.00      355\n",
       " 5.40       62\n",
       " 5.80       59\n",
       " 4.60       51\n",
       " 5.90       49\n",
       " 4.20       41\n",
       " 5.10       25\n",
       " 3.80       24\n",
       " 4.70       19\n",
       " 4.30       13\n",
       " 3.40       10\n",
       " 0.00        5\n",
       " 3.90        4\n",
       "-3.50        3\n",
       "-3.00        2\n",
       "-52.00       2\n",
       " 0.01        2\n",
       " 3.25        1\n",
       "-5.70        1\n",
       "-6.90        1\n",
       "-5.50        1\n",
       "-10.90       1\n",
       " 0.11        1\n",
       "-50.50       1\n",
       "-5.00        1\n",
       "-3.30        1\n",
       " 2.60        1\n",
       "-23.70       1\n",
       "-7.30        1\n",
       "-49.57       1\n",
       "Name: fare_amount, dtype: int64"
      ]
     },
     "execution_count": 12,
     "metadata": {},
     "output_type": "execute_result"
    }
   ],
   "source": [
    "df1 = df['fare_amount'].value_counts()\n",
    "df1.loc[df1.index < 6]"
   ]
  },
  {
   "cell_type": "code",
   "execution_count": 13,
   "id": "fqhqHxFsk-1Q",
   "metadata": {
    "colab": {
     "base_uri": "https://localhost:8080/"
    },
    "executionInfo": {
     "elapsed": 342,
     "status": "ok",
     "timestamp": 1701974697643,
     "user": {
      "displayName": "Hugo Carvalho",
      "userId": "02720238812566655242"
     },
     "user_tz": 180
    },
    "id": "fqhqHxFsk-1Q",
    "outputId": "d08e9ecd-9b0c-41cb-b944-4572dade1530"
   },
   "outputs": [
    {
     "data": {
      "text/plain": [
       "25"
      ]
     },
     "execution_count": 13,
     "metadata": {},
     "output_type": "execute_result"
    }
   ],
   "source": [
    "df1.loc[df1.index < 0.2].sum()"
   ]
  },
  {
   "cell_type": "code",
   "execution_count": 14,
   "id": "2aa2edba",
   "metadata": {
    "executionInfo": {
     "elapsed": 3,
     "status": "ok",
     "timestamp": 1701974699656,
     "user": {
      "displayName": "Hugo Carvalho",
      "userId": "02720238812566655242"
     },
     "user_tz": 180
    },
    "id": "2aa2edba"
   },
   "outputs": [],
   "source": [
    "df = df[df['fare_amount'] > 0.2]"
   ]
  },
  {
   "cell_type": "markdown",
   "id": "gS-UqoAZk-1Q",
   "metadata": {
    "id": "gS-UqoAZk-1Q"
   },
   "source": [
    "#### We can see that some uber rides have negative values and others are below 0.20. We have chosen to remove these 25 cases from the analysis."
   ]
  },
  {
   "cell_type": "code",
   "execution_count": 15,
   "id": "6444f9e7",
   "metadata": {
    "colab": {
     "base_uri": "https://localhost:8080/"
    },
    "executionInfo": {
     "elapsed": 357,
     "status": "ok",
     "timestamp": 1701974703826,
     "user": {
      "displayName": "Hugo Carvalho",
      "userId": "02720238812566655242"
     },
     "user_tz": 180
    },
    "id": "6444f9e7",
    "outputId": "af01898f-d4bb-4a24-9fac-a758cb63b3f3"
   },
   "outputs": [
    {
     "data": {
      "text/plain": [
       "count    199265.000000\n",
       "mean         11.369588\n",
       "std           9.905854\n",
       "min           2.500000\n",
       "25%           6.000000\n",
       "50%           8.500000\n",
       "75%          12.500000\n",
       "max         499.000000\n",
       "Name: fare_amount, dtype: float64"
      ]
     },
     "execution_count": 15,
     "metadata": {},
     "output_type": "execute_result"
    }
   ],
   "source": [
    "df['fare_amount'].describe()"
   ]
  },
  {
   "cell_type": "markdown",
   "id": "3ece9e6d",
   "metadata": {
    "id": "zCjjTCG1k-1Q"
   },
   "source": [
    "#### Apparent inconsistent values of rides fares still exists, but we will analyse further along with the information of distance. "
   ]
  },
  {
   "cell_type": "markdown",
   "id": "g9eS6_E4k-1Q",
   "metadata": {
    "id": "g9eS6_E4k-1Q"
   },
   "source": [
    "####"
   ]
  },
  {
   "cell_type": "markdown",
   "id": "3a4ab8de",
   "metadata": {
    "id": "GU53znAsk-1R"
   },
   "source": [
    "#### Creating the variable distance"
   ]
  },
  {
   "cell_type": "markdown",
   "id": "7940f22b",
   "metadata": {
    "id": "PV3bKqZKk-1R"
   },
   "source": [
    "#### We will use the Haversine formula, which is an equation used in navigation, providing the distance between 2 points on a sphere based on their latitudes and longitudes, to calculate the distance between the start and end of the ride."
   ]
  },
  {
   "cell_type": "markdown",
   "id": "0nDazubbk-1R",
   "metadata": {
    "id": "0nDazubbk-1R"
   },
   "source": [
    "####"
   ]
  },
  {
   "cell_type": "markdown",
   "id": "f6b87417",
   "metadata": {
    "id": "PCAz_jg1k-1R"
   },
   "source": [
    "#### Defining criteria for latitudes and longitudes to remove rows that don't make sense."
   ]
  },
  {
   "cell_type": "code",
   "execution_count": 16,
   "id": "602ae0a4",
   "metadata": {
    "executionInfo": {
     "elapsed": 344,
     "status": "ok",
     "timestamp": 1701974717030,
     "user": {
      "displayName": "Hugo Carvalho",
      "userId": "02720238812566655242"
     },
     "user_tz": 180
    },
    "id": "602ae0a4"
   },
   "outputs": [],
   "source": [
    "lat_min, lat_max = -90, 90\n",
    "lon_min, lon_max = -180, 180\n",
    "\n",
    "df = df[(df['pickup_latitude'] >= lat_min) & (df['pickup_latitude'] <= lat_max) &\n",
    "        (df['dropoff_latitude'] >= lat_min) & (df['dropoff_latitude'] <= lat_max) &\n",
    "        (df['pickup_longitude'] >= lon_min) & (df['pickup_longitude'] <= lon_max) &\n",
    "        (df['dropoff_longitude'] >= lon_min) & (df['dropoff_longitude'] <= lon_max)]\n"
   ]
  },
  {
   "cell_type": "code",
   "execution_count": 17,
   "id": "20c9b0b7",
   "metadata": {
    "executionInfo": {
     "elapsed": 321,
     "status": "ok",
     "timestamp": 1701974721446,
     "user": {
      "displayName": "Hugo Carvalho",
      "userId": "02720238812566655242"
     },
     "user_tz": 180
    },
    "id": "20c9b0b7"
   },
   "outputs": [],
   "source": [
    "def haversine_distance(lat1, lon1, lat2, lon2):\n",
    "    earth_radius = 6371.0\n",
    "\n",
    "    # Converting degrees to radians\n",
    "    lat1 = np.radians(lat1)\n",
    "    lon1 = np.radians(lon1)\n",
    "    lat2 = np.radians(lat2)\n",
    "    lon2 = np.radians(lon2)\n",
    "\n",
    "    # Difference between latitude and longitude\n",
    "    dlat = lat2 - lat1\n",
    "    dlon = lon2 - lon1\n",
    "\n",
    "    # Haversine Formula\n",
    "    a = np.sin(dlat / 2)**2 + np.cos(lat1) * np.cos(lat2) * np.sin(dlon / 2)**2\n",
    "    c = 2 * np.arctan2(np.sqrt(a), np.sqrt(1 - a))\n",
    "    distance = earth_radius * c\n",
    "\n",
    "    return distance\n"
   ]
  },
  {
   "cell_type": "code",
   "execution_count": 18,
   "id": "d3d492a3",
   "metadata": {
    "executionInfo": {
     "elapsed": 23145,
     "status": "ok",
     "timestamp": 1701974749925,
     "user": {
      "displayName": "Hugo Carvalho",
      "userId": "02720238812566655242"
     },
     "user_tz": 180
    },
    "id": "d3d492a3"
   },
   "outputs": [],
   "source": [
    "for index, row in df.iterrows():\n",
    "    distance = haversine_distance(row['pickup_latitude'], row['pickup_longitude'], row['dropoff_latitude'], row['dropoff_longitude'])\n",
    "\n",
    "    df.at[index, 'distance'] = distance"
   ]
  },
  {
   "cell_type": "code",
   "execution_count": 19,
   "id": "WCEXidz4k-1R",
   "metadata": {
    "colab": {
     "base_uri": "https://localhost:8080/"
    },
    "executionInfo": {
     "elapsed": 353,
     "status": "ok",
     "timestamp": 1701974768579,
     "user": {
      "displayName": "Hugo Carvalho",
      "userId": "02720238812566655242"
     },
     "user_tz": 180
    },
    "id": "WCEXidz4k-1R",
    "outputId": "1e24f034-7132-4256-e943-4dd883226b97"
   },
   "outputs": [
    {
     "data": {
      "text/plain": [
       "count    199253.000000\n",
       "mean         20.321105\n",
       "std         376.850835\n",
       "min           0.000000\n",
       "25%           1.215430\n",
       "50%           2.121999\n",
       "75%           3.875852\n",
       "max        8782.898606\n",
       "Name: distance, dtype: float64"
      ]
     },
     "execution_count": 19,
     "metadata": {},
     "output_type": "execute_result"
    }
   ],
   "source": [
    "df['distance'].describe()"
   ]
  },
  {
   "cell_type": "code",
   "execution_count": 20,
   "id": "JMma6g08k-1R",
   "metadata": {
    "colab": {
     "base_uri": "https://localhost:8080/"
    },
    "executionInfo": {
     "elapsed": 355,
     "status": "ok",
     "timestamp": 1701974771380,
     "user": {
      "displayName": "Hugo Carvalho",
      "userId": "02720238812566655242"
     },
     "user_tz": 180
    },
    "id": "JMma6g08k-1R",
    "outputId": "956fba57-1f2a-4333-f121-f3e482dc0b46"
   },
   "outputs": [
    {
     "data": {
      "text/plain": [
       "0.000000    5612\n",
       "0.000424       5\n",
       "0.000334       2\n",
       "0.000778       2\n",
       "0.000556       2\n",
       "            ... \n",
       "0.007623       1\n",
       "0.008364       1\n",
       "0.073476       1\n",
       "0.038668       1\n",
       "0.001101       1\n",
       "Name: distance, Length: 1155, dtype: int64"
      ]
     },
     "execution_count": 20,
     "metadata": {},
     "output_type": "execute_result"
    }
   ],
   "source": [
    "df2 = df['distance'].value_counts()\n",
    "df2.loc[df2.index < 0.1]"
   ]
  },
  {
   "cell_type": "code",
   "execution_count": 21,
   "id": "_1Nu4BQ7k-1b",
   "metadata": {
    "colab": {
     "base_uri": "https://localhost:8080/"
    },
    "executionInfo": {
     "elapsed": 3,
     "status": "ok",
     "timestamp": 1701974774014,
     "user": {
      "displayName": "Hugo Carvalho",
      "userId": "02720238812566655242"
     },
     "user_tz": 180
    },
    "id": "_1Nu4BQ7k-1b",
    "outputId": "42c2ed59-6039-4ec9-81c1-286e20899c0a"
   },
   "outputs": [
    {
     "data": {
      "text/plain": [
       "6774"
      ]
     },
     "execution_count": 21,
     "metadata": {},
     "output_type": "execute_result"
    }
   ],
   "source": [
    "df2.loc[df2.index < 0.1].sum()"
   ]
  },
  {
   "cell_type": "markdown",
   "id": "Df6tEZ59k-1b",
   "metadata": {
    "id": "Df6tEZ59k-1b"
   },
   "source": [
    "#### 5612 rides with zero distance were identified and will be excluded from the analysis. Furthermore, for the sake of reasonableness, 1162 rides with distances less than 100m (0.1) will also be disregarded."
   ]
  },
  {
   "cell_type": "code",
   "execution_count": 22,
   "id": "d88647ac",
   "metadata": {
    "executionInfo": {
     "elapsed": 3,
     "status": "ok",
     "timestamp": 1701974777065,
     "user": {
      "displayName": "Hugo Carvalho",
      "userId": "02720238812566655242"
     },
     "user_tz": 180
    },
    "id": "d88647ac"
   },
   "outputs": [],
   "source": [
    "df = df[df['distance'] > 0.1]"
   ]
  },
  {
   "cell_type": "code",
   "execution_count": 23,
   "id": "D71CATdkk-1b",
   "metadata": {
    "colab": {
     "base_uri": "https://localhost:8080/"
    },
    "executionInfo": {
     "elapsed": 532,
     "status": "ok",
     "timestamp": 1701974779849,
     "user": {
      "displayName": "Hugo Carvalho",
      "userId": "02720238812566655242"
     },
     "user_tz": 180
    },
    "id": "D71CATdkk-1b",
    "outputId": "2b009301-3517-4fb6-cb0b-008ec8c276a6"
   },
   "outputs": [
    {
     "data": {
      "text/plain": [
       "count    192479.000000\n",
       "mean         21.036099\n",
       "std         383.405260\n",
       "min           0.100227\n",
       "25%           1.296620\n",
       "50%           2.197383\n",
       "75%           3.980016\n",
       "max        8782.898606\n",
       "Name: distance, dtype: float64"
      ]
     },
     "execution_count": 23,
     "metadata": {},
     "output_type": "execute_result"
    }
   ],
   "source": [
    "df['distance'].describe()"
   ]
  },
  {
   "cell_type": "code",
   "execution_count": null,
   "id": "pOcJX_-_k-1b",
   "metadata": {
    "colab": {
     "base_uri": "https://localhost:8080/",
     "height": 542,
     "output_embedded_package_id": "1RAQbhLxMlmROI_UKsD8eaXLMz70TEKdt"
    },
    "executionInfo": {
     "elapsed": 8976,
     "status": "ok",
     "timestamp": 1701974791056,
     "user": {
      "displayName": "Hugo Carvalho",
      "userId": "02720238812566655242"
     },
     "user_tz": 180
    },
    "id": "pOcJX_-_k-1b",
    "outputId": "85b1597f-243b-488f-f6e9-21d810621c0a",
    "scrolled": true
   },
   "outputs": [],
   "source": [
    "py.scatter(df, x = df['distance'], y = df['fare_amount'])\n",
    "\n",
    "#Output Removed to reduce notebook size"
   ]
  },
  {
   "cell_type": "markdown",
   "id": "6ca84d78",
   "metadata": {
    "id": "up4HTojrk-1b"
   },
   "source": [
    "#### After a graphical analysis, we observed many rides with completely unrealistic distances. Additionally, we noticed some cases where the distance-price relationship doesn't make sense. Therefore, at this initial stage, we chose to remove all variables with distances greater than 170 km."
   ]
  },
  {
   "cell_type": "code",
   "execution_count": 25,
   "id": "Wc9VgnCXk-1b",
   "metadata": {
    "executionInfo": {
     "elapsed": 343,
     "status": "ok",
     "timestamp": 1701974807182,
     "user": {
      "displayName": "Hugo Carvalho",
      "userId": "02720238812566655242"
     },
     "user_tz": 180
    },
    "id": "Wc9VgnCXk-1b"
   },
   "outputs": [],
   "source": [
    "df = df[df['distance'] < 170]"
   ]
  },
  {
   "cell_type": "code",
   "execution_count": null,
   "id": "epZ395kqk-1c",
   "metadata": {
    "colab": {
     "base_uri": "https://localhost:8080/",
     "height": 542,
     "output_embedded_package_id": "152ydLJMGVJ-nFX2lKLh3qUH_sWeIDcXk"
    },
    "executionInfo": {
     "elapsed": 7593,
     "status": "ok",
     "timestamp": 1701974816164,
     "user": {
      "displayName": "Hugo Carvalho",
      "userId": "02720238812566655242"
     },
     "user_tz": 180
    },
    "id": "epZ395kqk-1c",
    "outputId": "19798434-d3ad-426b-e2c6-f2340b79af49"
   },
   "outputs": [],
   "source": [
    "py.scatter(df, x = df['distance'], y = df['fare_amount'])\n",
    "\n",
    "#Output Removed to reduce notebook size"
   ]
  },
  {
   "cell_type": "markdown",
   "id": "04c4f9fc",
   "metadata": {
    "id": "btXA1fHCk-1c"
   },
   "source": [
    "#### Upon reevaluation within this revised range, it appears that rides covering distances up to 60 km maintain a realistic relationship between distance and price. As a result, we will further refine our selection, considering only rides with distances up to 60 km."
   ]
  },
  {
   "cell_type": "code",
   "execution_count": 27,
   "id": "I39dxw9Ek-1c",
   "metadata": {
    "executionInfo": {
     "elapsed": 356,
     "status": "ok",
     "timestamp": 1701974825141,
     "user": {
      "displayName": "Hugo Carvalho",
      "userId": "02720238812566655242"
     },
     "user_tz": 180
    },
    "id": "I39dxw9Ek-1c"
   },
   "outputs": [],
   "source": [
    "df = df[df['distance'] < 60]"
   ]
  },
  {
   "cell_type": "code",
   "execution_count": null,
   "id": "2yUK2zlVk-1c",
   "metadata": {
    "colab": {
     "base_uri": "https://localhost:8080/",
     "height": 542,
     "output_embedded_package_id": "1pwVSYSIgqzyMt9oyBQYpPul0O5cOOXZH"
    },
    "executionInfo": {
     "elapsed": 7742,
     "status": "ok",
     "timestamp": 1701974837754,
     "user": {
      "displayName": "Hugo Carvalho",
      "userId": "02720238812566655242"
     },
     "user_tz": 180
    },
    "id": "2yUK2zlVk-1c",
    "outputId": "5df0ecf0-d62f-4395-ed50-2aee44d2c72f"
   },
   "outputs": [],
   "source": [
    "py.scatter(df, x = df['distance'], y = df['fare_amount'])\n",
    "\n",
    "#Output eemoved to reduce notebook size"
   ]
  },
  {
   "cell_type": "markdown",
   "id": "2fb36c2a",
   "metadata": {
    "id": "fe6_7GGck-1c"
   },
   "source": [
    "#### Removing the ride with fare of $220 with a distance of 2.9 km."
   ]
  },
  {
   "cell_type": "code",
   "execution_count": 29,
   "id": "XwKbm2oCk-1c",
   "metadata": {
    "executionInfo": {
     "elapsed": 349,
     "status": "ok",
     "timestamp": 1701974844032,
     "user": {
      "displayName": "Hugo Carvalho",
      "userId": "02720238812566655242"
     },
     "user_tz": 180
    },
    "id": "XwKbm2oCk-1c"
   },
   "outputs": [],
   "source": [
    "df = df[df['fare_amount'] != 220]"
   ]
  },
  {
   "cell_type": "markdown",
   "id": "84deaece",
   "metadata": {
    "id": "de9b0175"
   },
   "source": [
    "### Uber races location"
   ]
  },
  {
   "cell_type": "markdown",
   "id": "6f437232",
   "metadata": {
    "id": "2e38a4f1"
   },
   "source": [
    "#### After a preliminary analysis, we found that the majority of rides took place in the territory of the United States. What we'll do is verify if this indeed occurred. The idea is to consider only these rides."
   ]
  },
  {
   "cell_type": "markdown",
   "id": "6D1seA9Fk-1c",
   "metadata": {
    "id": "6D1seA9Fk-1c"
   },
   "source": [
    "####"
   ]
  },
  {
   "cell_type": "markdown",
   "id": "57ead9be",
   "metadata": {
    "id": "AzKKsAypk-1c"
   },
   "source": [
    "#### In this code, we'll roughly define a polygon that encompasses the geographical boundaries of the USA. Anything not captured within this polygon will be classified as 'Unknown'."
   ]
  },
  {
   "cell_type": "code",
   "execution_count": 30,
   "id": "3f47ccdb",
   "metadata": {
    "executionInfo": {
     "elapsed": 10079,
     "status": "ok",
     "timestamp": 1701974862585,
     "user": {
      "displayName": "Hugo Carvalho",
      "userId": "02720238812566655242"
     },
     "user_tz": 180
    },
    "id": "3f47ccdb"
   },
   "outputs": [],
   "source": [
    "us_polygon = Polygon([\n",
    "    (-125, 24),  # Lower left boundary\n",
    "    (-66, 24),   # Lower right boundary\n",
    "    (-66, 49),   # Upper right boundary\n",
    "    (-125, 49),  # Upper left boundary\n",
    "])\n",
    "\n",
    "def country_pickup(row):\n",
    "    point = Point(row['pickup_longitude'], row['pickup_latitude'])\n",
    "    if us_polygon.contains(point):\n",
    "        return 'United States'\n",
    "    else:\n",
    "        return 'Unknown'\n",
    "\n",
    "def country_dropoff(row):\n",
    "    if row['country'] == 'Unknown':\n",
    "        point = Point(row['dropoff_longitude'], row['dropoff_latitude'])\n",
    "        if us_polygon.contains(point):\n",
    "            return 'United States'\n",
    "        else:\n",
    "            return 'Unknown'\n",
    "    else:\n",
    "        return row['country']\n",
    "\n",
    "\n",
    "df['country'] = df.apply(country_pickup, axis=1)\n",
    "df['country'] = df.apply(country_dropoff, axis=1)"
   ]
  },
  {
   "cell_type": "code",
   "execution_count": 31,
   "id": "7637587c",
   "metadata": {
    "colab": {
     "base_uri": "https://localhost:8080/"
    },
    "executionInfo": {
     "elapsed": 351,
     "status": "ok",
     "timestamp": 1701974870727,
     "user": {
      "displayName": "Hugo Carvalho",
      "userId": "02720238812566655242"
     },
     "user_tz": 180
    },
    "id": "7637587c",
    "outputId": "46547176-11c7-4abd-a9fb-e9a0799011b9"
   },
   "outputs": [
    {
     "data": {
      "text/plain": [
       "United States    191887\n",
       "Unknown             114\n",
       "Name: country, dtype: int64"
      ]
     },
     "execution_count": 31,
     "metadata": {},
     "output_type": "execute_result"
    }
   ],
   "source": [
    "df['country'].value_counts()"
   ]
  },
  {
   "cell_type": "code",
   "execution_count": null,
   "id": "75d71fb8",
   "metadata": {
    "colab": {
     "base_uri": "https://localhost:8080/"
    },
    "executionInfo": {
     "elapsed": 69387,
     "status": "ok",
     "timestamp": 1701974943366,
     "user": {
      "displayName": "Hugo Carvalho",
      "userId": "02720238812566655242"
     },
     "user_tz": 180
    },
    "id": "75d71fb8",
    "outputId": "35bf339b-c967-4a5c-aae5-775ccd288f17",
    "scrolled": true
   },
   "outputs": [],
   "source": [
    "geolocator = Nominatim(user_agent=\"geoapiExercises\")\n",
    "\n",
    "# Function to get the country information\n",
    "def get_country_pickup(row):\n",
    "    if row['country'] == 'Unknown':\n",
    "        try:\n",
    "            location = geolocator.reverse((row['pickup_latitude'], row['pickup_longitude']), exactly_one=True)\n",
    "            address = location.raw.get('address', {})\n",
    "            country = address.get('country', 'Unknown')\n",
    "            return country\n",
    "        except:\n",
    "            return 'Unknown'\n",
    "    else:\n",
    "        return row['country']\n",
    "\n",
    "# Counting variable\n",
    "count_unknown_rows = 0\n",
    "\n",
    "# Applying the function to obtain the country and monitoring the 'Unknown' lines.\n",
    "for index, row in df.iterrows():\n",
    "    if row['country'] == 'Unknown':\n",
    "        count_unknown_rows += 1\n",
    "        print(\"Number of 'Unknown' lines processed:\", count_unknown_rows)\n",
    "    df.at[index, 'country'] = get_country_pickup(row)\n"
   ]
  },
  {
   "cell_type": "code",
   "execution_count": null,
   "id": "3f5bd4af",
   "metadata": {
    "id": "3f5bd4af",
    "scrolled": true
   },
   "outputs": [],
   "source": [
    "geolocator = Nominatim(user_agent=\"geoapiExercises\")\n",
    "\n",
    "def get_country_dropoff(row):\n",
    "    if row['country'] == 'Unknown':\n",
    "        try:\n",
    "            location = geolocator.reverse((row['dropoff_latitude'], row['dropoff_longitude']), exactly_one=True)\n",
    "            address = location.raw.get('address', {})\n",
    "            country = address.get('country', 'Unknown')\n",
    "            return country\n",
    "        except:\n",
    "            return 'Unknown'\n",
    "    else:\n",
    "        return row['country']\n",
    "\n",
    "count_unknown_rows = 0\n",
    "\n",
    "for index, row in df.iterrows():\n",
    "    if row['country'] == 'Unknown':\n",
    "        count_unknown_rows += 1\n",
    "        print(\"Number of 'Unknown' lines processed: \", count_unknown_rows)\n",
    "    df.at[index, 'country'] = get_country_dropoff(row)\n"
   ]
  },
  {
   "cell_type": "code",
   "execution_count": 34,
   "id": "840566ac",
   "metadata": {
    "colab": {
     "base_uri": "https://localhost:8080/"
    },
    "executionInfo": {
     "elapsed": 334,
     "status": "ok",
     "timestamp": 1701974948184,
     "user": {
      "displayName": "Hugo Carvalho",
      "userId": "02720238812566655242"
     },
     "user_tz": 180
    },
    "id": "840566ac",
    "outputId": "8ba830ac-9d74-41a1-bc55-209209f696cd"
   },
   "outputs": [
    {
     "data": {
      "text/plain": [
       "array(['United States', 'Unknown'], dtype=object)"
      ]
     },
     "execution_count": 34,
     "metadata": {},
     "output_type": "execute_result"
    }
   ],
   "source": [
    "df['country'].unique()"
   ]
  },
  {
   "cell_type": "code",
   "execution_count": 35,
   "id": "df27875e",
   "metadata": {
    "colab": {
     "base_uri": "https://localhost:8080/"
    },
    "executionInfo": {
     "elapsed": 443,
     "status": "ok",
     "timestamp": 1701974952050,
     "user": {
      "displayName": "Hugo Carvalho",
      "userId": "02720238812566655242"
     },
     "user_tz": 180
    },
    "id": "df27875e",
    "outputId": "9d0481c0-fd9b-4a2f-95b0-4e34d312c009"
   },
   "outputs": [
    {
     "name": "stdout",
     "output_type": "stream",
     "text": [
      "Unknown :  114\n",
      "United States :  191887\n"
     ]
    }
   ],
   "source": [
    "print(\"Unknown : \" ,(df['country'] == 'Unknown').sum())\n",
    "print(\"United States : \" ,(df['country'] == 'United States').sum())"
   ]
  },
  {
   "cell_type": "code",
   "execution_count": 36,
   "id": "d0680696",
   "metadata": {
    "executionInfo": {
     "elapsed": 333,
     "status": "ok",
     "timestamp": 1701974954497,
     "user": {
      "displayName": "Hugo Carvalho",
      "userId": "02720238812566655242"
     },
     "user_tz": 180
    },
    "id": "d0680696"
   },
   "outputs": [],
   "source": [
    "# Removing every observation outside of United States\n",
    "df = df[df['country'] == \"United States\"]"
   ]
  },
  {
   "cell_type": "markdown",
   "id": "66ba18e7",
   "metadata": {
    "id": "43692626"
   },
   "source": [
    "### Deconstructing the 'pickup_datetime' variable to get more information."
   ]
  },
  {
   "cell_type": "markdown",
   "id": "54b19c4d",
   "metadata": {
    "id": "9LtAZaAPk-1d"
   },
   "source": [
    "#### The intention is to leverage this information-rich variable for the creation of other potential explanatory variables."
   ]
  },
  {
   "cell_type": "markdown",
   "id": "RBMIx-fBk-1d",
   "metadata": {
    "id": "RBMIx-fBk-1d"
   },
   "source": [
    "####"
   ]
  },
  {
   "cell_type": "markdown",
   "id": "7a5d49f7",
   "metadata": {
    "id": "1Kj26KQck-1d"
   },
   "source": [
    "#### First of all, creating the variables date, year, month, hour, and day of the week."
   ]
  },
  {
   "cell_type": "code",
   "execution_count": 37,
   "id": "7cb73170",
   "metadata": {
    "executionInfo": {
     "elapsed": 29551,
     "status": "ok",
     "timestamp": 1701974990351,
     "user": {
      "displayName": "Hugo Carvalho",
      "userId": "02720238812566655242"
     },
     "user_tz": 180
    },
    "id": "7cb73170"
   },
   "outputs": [],
   "source": [
    "df['pickup_datetime'] = pd.to_datetime(df['pickup_datetime'])\n",
    "\n",
    "df['date'] = df['pickup_datetime'].dt.date\n",
    "df['date'] = pd.to_datetime(df['date'])\n",
    "df['year'] = df['date'].dt.year\n",
    "df['month'] = df['date'].dt.month\n",
    "\n",
    "month_name = {\n",
    "    1 : 'january',\n",
    "    2 : 'february',\n",
    "    3 : 'march',\n",
    "    4 : 'april',\n",
    "    5 : 'may',\n",
    "    6 : 'june',\n",
    "    7 : 'july',\n",
    "    8 : 'august',\n",
    "    9 : 'september',\n",
    "    10 : 'october',\n",
    "    11 : 'november',\n",
    "    12 : 'december'\n",
    "}\n",
    "\n",
    "df['month'] = df['month'].map(month_name)\n",
    "\n",
    "df['time'] = df['pickup_datetime'].dt.time\n",
    "df['hour'] = df['time'].apply(lambda x: x.hour)\n",
    "\n",
    "df['day_of_week'] = df['pickup_datetime'].dt.day_name()\n"
   ]
  },
  {
   "cell_type": "code",
   "execution_count": 38,
   "id": "8280674c",
   "metadata": {
    "executionInfo": {
     "elapsed": 9,
     "status": "ok",
     "timestamp": 1701974990351,
     "user": {
      "displayName": "Hugo Carvalho",
      "userId": "02720238812566655242"
     },
     "user_tz": 180
    },
    "id": "8280674c"
   },
   "outputs": [],
   "source": [
    "# one-hot encoding the day_of_week column\n",
    "one_hot_encoded = pd.get_dummies(df['day_of_week'], prefix= 'day')\n",
    "\n",
    "df = pd.concat([df, one_hot_encoded], axis=1)\n"
   ]
  },
  {
   "cell_type": "markdown",
   "id": "76b14bcc",
   "metadata": {
    "id": "C6PiPaSdk-1d"
   },
   "source": [
    "#### Creating a variable that indicates whether it is morning, afternoon, evening, or late night."
   ]
  },
  {
   "cell_type": "code",
   "execution_count": 39,
   "id": "ed440bb2",
   "metadata": {
    "executionInfo": {
     "elapsed": 376,
     "status": "ok",
     "timestamp": 1701974995160,
     "user": {
      "displayName": "Hugo Carvalho",
      "userId": "02720238812566655242"
     },
     "user_tz": 180
    },
    "id": "ed440bb2"
   },
   "outputs": [],
   "source": [
    "def time_period(hour):\n",
    "    if 5 <= hour < 12:\n",
    "        return 'morning'\n",
    "    elif 12 <= hour < 18:\n",
    "        return 'afternoon'\n",
    "    elif 18 <= hour < 24:\n",
    "        return 'night'\n",
    "    else:\n",
    "        return 'late night'\n",
    "\n",
    "\n",
    "df['time_period'] = df['hour'].apply(time_period)"
   ]
  },
  {
   "cell_type": "code",
   "execution_count": 40,
   "id": "c6c3a808",
   "metadata": {
    "executionInfo": {
     "elapsed": 428,
     "status": "ok",
     "timestamp": 1701974997317,
     "user": {
      "displayName": "Hugo Carvalho",
      "userId": "02720238812566655242"
     },
     "user_tz": 180
    },
    "id": "c6c3a808"
   },
   "outputs": [],
   "source": [
    "# one-hot encoding the time_period column\n",
    "one_hot_encoded = pd.get_dummies(df['time_period'], prefix= 'period')\n",
    "\n",
    "df = pd.concat([df, one_hot_encoded], axis=1)"
   ]
  },
  {
   "cell_type": "markdown",
   "id": "5ca180ba",
   "metadata": {
    "id": "H-R_2jFek-1d"
   },
   "source": [
    "#### Using the 'holidays' package to determine if it is a holiday in the USA."
   ]
  },
  {
   "cell_type": "code",
   "execution_count": 41,
   "id": "755d8918",
   "metadata": {
    "executionInfo": {
     "elapsed": 69792,
     "status": "ok",
     "timestamp": 1701975071134,
     "user": {
      "displayName": "Hugo Carvalho",
      "userId": "02720238812566655242"
     },
     "user_tz": 180
    },
    "id": "755d8918"
   },
   "outputs": [],
   "source": [
    "import holidays\n",
    "\n",
    "def is_holiday_us(row):\n",
    "    us_holidays = holidays.US(years=row['year'])\n",
    "    return row['date'] in us_holidays\n",
    "\n",
    "df['holiday'] = df.apply(is_holiday_us, axis=1)"
   ]
  },
  {
   "cell_type": "code",
   "execution_count": 42,
   "id": "98af7103",
   "metadata": {
    "colab": {
     "base_uri": "https://localhost:8080/"
    },
    "executionInfo": {
     "elapsed": 355,
     "status": "ok",
     "timestamp": 1701975120276,
     "user": {
      "displayName": "Hugo Carvalho",
      "userId": "02720238812566655242"
     },
     "user_tz": 180
    },
    "id": "98af7103",
    "outputId": "28e117d5-2758-4005-9cdb-d823436768db"
   },
   "outputs": [
    {
     "data": {
      "text/plain": [
       "False    187559\n",
       "True       4328\n",
       "Name: holiday, dtype: int64"
      ]
     },
     "execution_count": 42,
     "metadata": {},
     "output_type": "execute_result"
    }
   ],
   "source": [
    "df['holiday'].value_counts()"
   ]
  },
  {
   "cell_type": "code",
   "execution_count": 43,
   "id": "fd16eac8",
   "metadata": {
    "executionInfo": {
     "elapsed": 373,
     "status": "ok",
     "timestamp": 1701975122703,
     "user": {
      "displayName": "Hugo Carvalho",
      "userId": "02720238812566655242"
     },
     "user_tz": 180
    },
    "id": "fd16eac8"
   },
   "outputs": [],
   "source": [
    "# one-hot encoding the \"holiday\" column\n",
    "holiday_one_hot_encoded = pd.get_dummies(df['holiday'], prefix = 'holiday')\n",
    "\n",
    "df = pd.concat([df, holiday_one_hot_encoded], axis=1)"
   ]
  },
  {
   "cell_type": "markdown",
   "id": "037aa42b",
   "metadata": {
    "id": "-nrrEOh1k-1e"
   },
   "source": [
    "#### Creating the variable that represents the season"
   ]
  },
  {
   "cell_type": "code",
   "execution_count": 44,
   "id": "eb879076",
   "metadata": {
    "executionInfo": {
     "elapsed": 3266,
     "status": "ok",
     "timestamp": 1701975128764,
     "user": {
      "displayName": "Hugo Carvalho",
      "userId": "02720238812566655242"
     },
     "user_tz": 180
    },
    "id": "eb879076"
   },
   "outputs": [],
   "source": [
    "def season_of_year(row):\n",
    "    date = row['date']\n",
    "    country = row['country']\n",
    "\n",
    "    if (date.month >= 3 and date.month <= 5):\n",
    "        return 'spring'\n",
    "    elif (date.month >= 6 and date.month <= 8):\n",
    "        return 'summer'\n",
    "    elif (date.month >= 9 and date.month <= 11):\n",
    "        return 'fall'\n",
    "    else:\n",
    "        return 'winter'\n",
    "\n",
    "\n",
    "df['season'] = df.apply(season_of_year, axis=1)"
   ]
  },
  {
   "cell_type": "code",
   "execution_count": 45,
   "id": "3280ac8b",
   "metadata": {
    "executionInfo": {
     "elapsed": 447,
     "status": "ok",
     "timestamp": 1701975130865,
     "user": {
      "displayName": "Hugo Carvalho",
      "userId": "02720238812566655242"
     },
     "user_tz": 180
    },
    "id": "3280ac8b"
   },
   "outputs": [],
   "source": [
    "# one-hot encoding the \"season\" column\n",
    "season_one_hot_encoded = pd.get_dummies(df['season'], prefix= 'season')\n",
    "\n",
    "df = pd.concat([df, season_one_hot_encoded], axis=1)"
   ]
  },
  {
   "cell_type": "markdown",
   "id": "6c23668f",
   "metadata": {
    "id": "2j8YaOdHk-1e"
   },
   "source": [
    "#### Creating a variable that indicates if it's rush hour"
   ]
  },
  {
   "cell_type": "code",
   "execution_count": 46,
   "id": "beb4a530",
   "metadata": {
    "executionInfo": {
     "elapsed": 3323,
     "status": "ok",
     "timestamp": 1701975137068,
     "user": {
      "displayName": "Hugo Carvalho",
      "userId": "02720238812566655242"
     },
     "user_tz": 180
    },
    "id": "beb4a530"
   },
   "outputs": [],
   "source": [
    "def is_rush_hour(row):\n",
    "    time = row['time']\n",
    "    country = row['country']\n",
    "\n",
    "    if (7 <= time.hour < 10) or (16 <= time.hour < 19):\n",
    "        return True\n",
    "    else:\n",
    "        return False\n",
    "\n",
    "\n",
    "df['rush_hour'] = df.apply(is_rush_hour, axis=1)"
   ]
  },
  {
   "cell_type": "code",
   "execution_count": 47,
   "id": "78e3e411",
   "metadata": {
    "executionInfo": {
     "elapsed": 3,
     "status": "ok",
     "timestamp": 1701975138264,
     "user": {
      "displayName": "Hugo Carvalho",
      "userId": "02720238812566655242"
     },
     "user_tz": 180
    },
    "id": "78e3e411"
   },
   "outputs": [],
   "source": [
    "# one-hot encoding a coluna 'rush_hour'\n",
    "rush_one_hot_encoded = pd.get_dummies(df['rush_hour'], prefix= 'rush_hour')\n",
    "\n",
    "df = pd.concat([df, rush_one_hot_encoded], axis=1)"
   ]
  },
  {
   "cell_type": "markdown",
   "id": "9381939e",
   "metadata": {
    "id": "764ff8ba"
   },
   "source": [
    "## Exploratory Data Analysis"
   ]
  },
  {
   "cell_type": "markdown",
   "id": "012713d9",
   "metadata": {
    "id": "21cd9173"
   },
   "source": [
    "### Correlation"
   ]
  },
  {
   "cell_type": "code",
   "execution_count": 48,
   "id": "cf279114",
   "metadata": {
    "executionInfo": {
     "elapsed": 404,
     "status": "ok",
     "timestamp": 1701975141045,
     "user": {
      "displayName": "Hugo Carvalho",
      "userId": "02720238812566655242"
     },
     "user_tz": 180
    },
    "id": "cf279114"
   },
   "outputs": [],
   "source": [
    "feat_quant = ['passenger_count','year','pickup_longitude','pickup_latitude','dropoff_longitude',\n",
    "              'dropoff_latitude','distance']\n",
    "feat_quali = ['day_of_week', 'holiday', 'season', 'rush_hour']"
   ]
  },
  {
   "cell_type": "code",
   "execution_count": 49,
   "id": "264394a4",
   "metadata": {
    "colab": {
     "base_uri": "https://localhost:8080/",
     "height": 653
    },
    "executionInfo": {
     "elapsed": 689,
     "status": "ok",
     "timestamp": 1701975143076,
     "user": {
      "displayName": "Hugo Carvalho",
      "userId": "02720238812566655242"
     },
     "user_tz": 180
    },
    "id": "264394a4",
    "outputId": "15939a79-ca6b-4e5d-be76-a8dd10fd3d93"
   },
   "outputs": [
    {
     "data": {
      "image/png": "[encoded data removed]",
      "text/plain": [
       "<Figure size 800x600 with 2 Axes>"
      ]
     },
     "metadata": {},
     "output_type": "display_data"
    }
   ],
   "source": [
    "plt.figure(figsize=(8, 6))\n",
    "mask = np.triu(np.ones_like(df[[*feat_quant, 'fare_amount']].corr(), dtype=bool))\n",
    "np.fill_diagonal(mask, False)\n",
    "sns.heatmap(df[[*feat_quant, 'fare_amount']].corr(method = 'pearson'), annot=True, mask=mask, vmin=-1, vmax=1, cmap = \"vlag\")\n",
    "plt.title('Linear Correlation')\n",
    "plt.show()"
   ]
  },
  {
   "cell_type": "code",
   "execution_count": 50,
   "id": "672766b6",
   "metadata": {
    "colab": {
     "base_uri": "https://localhost:8080/",
     "height": 653
    },
    "executionInfo": {
     "elapsed": 1150,
     "status": "ok",
     "timestamp": 1701975151340,
     "user": {
      "displayName": "Hugo Carvalho",
      "userId": "02720238812566655242"
     },
     "user_tz": 180
    },
    "id": "672766b6",
    "outputId": "2d0e1813-6a65-4783-8a34-0be4aeb75c48"
   },
   "outputs": [
    {
     "data": {
      "image/png": "[encoded data removed]",
      "text/plain": [
       "<Figure size 800x600 with 2 Axes>"
      ]
     },
     "metadata": {},
     "output_type": "display_data"
    }
   ],
   "source": [
    "plt.figure(figsize=(8, 6))\n",
    "mask = np.triu(np.ones_like(df[[*feat_quant, 'fare_amount']].corr(), dtype=bool))\n",
    "np.fill_diagonal(mask, False)\n",
    "sns.heatmap(df[[*feat_quant, 'fare_amount']].corr(method = 'spearman'), annot=True, mask=mask, vmin=-1, vmax=1, cmap = \"vlag\")\n",
    "plt.title('Spearman Correlation')\n",
    "plt.show()"
   ]
  },
  {
   "cell_type": "markdown",
   "id": "b74b70dc",
   "metadata": {
    "id": "5cdadd09"
   },
   "source": [
    "## Number of passengers"
   ]
  },
  {
   "cell_type": "code",
   "execution_count": 51,
   "id": "3666eeff",
   "metadata": {
    "colab": {
     "base_uri": "https://localhost:8080/",
     "height": 565
    },
    "executionInfo": {
     "elapsed": 551,
     "status": "ok",
     "timestamp": 1701975164741,
     "user": {
      "displayName": "Hugo Carvalho",
      "userId": "02720238812566655242"
     },
     "user_tz": 180
    },
    "id": "3666eeff",
    "outputId": "4d839998-08d5-4dc6-9edf-fe9465f37752"
   },
   "outputs": [
    {
     "data": {
      "image/png": "[encoded data removed]",
      "text/plain": [
       "<Figure size 800x600 with 1 Axes>"
      ]
     },
     "metadata": {},
     "output_type": "display_data"
    }
   ],
   "source": [
    "plt.figure(figsize=(8, 6))\n",
    "\n",
    "plt.boxplot([df[df['passenger_count'] == 1]['fare_amount'],\n",
    "             df[df['passenger_count'] == 2]['fare_amount'],\n",
    "             df[df['passenger_count'] == 3]['fare_amount'],\n",
    "             df[df['passenger_count'] == 4]['fare_amount'],\n",
    "             df[df['passenger_count'] == 5]['fare_amount'],\n",
    "             df[df['passenger_count'] == 6]['fare_amount']],\n",
    "             labels=[1, 2, 3, 4, 5, 6], showfliers=False)\n",
    "\n",
    "plt.xlabel('Passenger')\n",
    "plt.ylabel('Fare amount')\n",
    "plt.title('Passengers vs. Fare')\n",
    "plt.grid(True)\n",
    "plt.show()"
   ]
  },
  {
   "cell_type": "markdown",
   "id": "131d50b8",
   "metadata": {
    "id": "Bm71SgI0k-1f"
   },
   "source": [
    "#### As expected after analyzing the correlation plot, it seems that the number of passengers does not influence the ride fare."
   ]
  },
  {
   "cell_type": "markdown",
   "id": "4RfAra2Fk-1f",
   "metadata": {
    "id": "4RfAra2Fk-1f"
   },
   "source": [
    "####"
   ]
  },
  {
   "cell_type": "markdown",
   "id": "f513eb01",
   "metadata": {
    "id": "5268971b"
   },
   "source": [
    "## Holiday"
   ]
  },
  {
   "cell_type": "code",
   "execution_count": 52,
   "id": "48881ee7",
   "metadata": {
    "colab": {
     "base_uri": "https://localhost:8080/",
     "height": 564
    },
    "executionInfo": {
     "elapsed": 1250,
     "status": "ok",
     "timestamp": 1701975173277,
     "user": {
      "displayName": "Hugo Carvalho",
      "userId": "02720238812566655242"
     },
     "user_tz": 180
    },
    "id": "48881ee7",
    "outputId": "a1ccb06f-4672-4327-b177-e3e4b26a7d74"
   },
   "outputs": [
    {
     "data": {
      "image/png": "[encoded data removed]",
      "text/plain": [
       "<Figure size 800x600 with 1 Axes>"
      ]
     },
     "metadata": {},
     "output_type": "display_data"
    }
   ],
   "source": [
    "plt.figure(figsize=(8, 6))\n",
    "\n",
    "holiday_data = df[df['holiday'] == True]['fare_amount']\n",
    "not_holiday_data = df[df['holiday'] == False]['fare_amount']\n",
    "\n",
    "plt.boxplot([holiday_data, not_holiday_data], labels=['Yes', 'No'], showfliers=False)\n",
    "\n",
    "plt.xlabel('Holiday')\n",
    "plt.ylabel('Fare amount')\n",
    "plt.title('Holiday vs. Fare')\n",
    "\n",
    "plt.show()"
   ]
  },
  {
   "cell_type": "markdown",
   "id": "6c0b3b11",
   "metadata": {
    "id": "wpoZXA-sk-1f"
   },
   "source": [
    "#### Apparently, being a holiday or not does not influence the ride fare."
   ]
  },
  {
   "cell_type": "markdown",
   "id": "_CnRQa9uk-1f",
   "metadata": {
    "id": "_CnRQa9uk-1f"
   },
   "source": [
    "####"
   ]
  },
  {
   "cell_type": "markdown",
   "id": "0c982c50",
   "metadata": {
    "id": "c5fda91a"
   },
   "source": [
    "## Day of week"
   ]
  },
  {
   "cell_type": "code",
   "execution_count": 53,
   "id": "f4845522",
   "metadata": {
    "colab": {
     "base_uri": "https://localhost:8080/",
     "height": 564
    },
    "executionInfo": {
     "elapsed": 1024,
     "status": "ok",
     "timestamp": 1701975177993,
     "user": {
      "displayName": "Hugo Carvalho",
      "userId": "02720238812566655242"
     },
     "user_tz": 180
    },
    "id": "f4845522",
    "outputId": "7c140210-1526-4603-a75c-a9af361b54b6"
   },
   "outputs": [
    {
     "data": {
      "image/png": "[encoded data removed]",
      "text/plain": [
       "<Figure size 800x600 with 1 Axes>"
      ]
     },
     "metadata": {},
     "output_type": "display_data"
    }
   ],
   "source": [
    "plt.figure(figsize=(8, 6))\n",
    "\n",
    "plt.boxplot([df[df['day_of_week'] == 'Sunday']['fare_amount'],\n",
    "             df[df['day_of_week'] == \"Monday\"]['fare_amount'],\n",
    "             df[df['day_of_week'] == \"Tuesday\"]['fare_amount'],\n",
    "             df[df['day_of_week'] == \"Wednesday\"]['fare_amount'],\n",
    "             df[df['day_of_week'] == \"Thursday\"]['fare_amount'],\n",
    "             df[df['day_of_week'] == \"Friday\"]['fare_amount'],\n",
    "             df[df['day_of_week'] == \"Saturday\"]['fare_amount']],\n",
    "             labels=[\"Sunday\", 'Monday', 'Tuesday', 'Wednesday', 'Thursday',\n",
    "                     \"Friday\", 'Saturday'], showfliers=False)\n",
    "\n",
    "plt.xlabel('Day of Week')\n",
    "plt.ylabel('Fare')\n",
    "plt.title('Day of week vs. Fare')\n",
    "plt.grid(True)\n",
    "plt.show()"
   ]
  },
  {
   "cell_type": "markdown",
   "id": "14e0148c",
   "metadata": {
    "id": "UZMDsbpJk-1f"
   },
   "source": [
    "#### The day the ride is taken does not have a significant influence on the ride fare."
   ]
  },
  {
   "cell_type": "markdown",
   "id": "w2G3X8d-k-1f",
   "metadata": {
    "id": "w2G3X8d-k-1f"
   },
   "source": [
    "####"
   ]
  },
  {
   "cell_type": "markdown",
   "id": "fdef2029",
   "metadata": {
    "id": "c42ec0e5"
   },
   "source": [
    "## Year"
   ]
  },
  {
   "cell_type": "code",
   "execution_count": 54,
   "id": "7f206a0e",
   "metadata": {
    "colab": {
     "base_uri": "https://localhost:8080/",
     "height": 585
    },
    "executionInfo": {
     "elapsed": 977,
     "status": "ok",
     "timestamp": 1701975182391,
     "user": {
      "displayName": "Hugo Carvalho",
      "userId": "02720238812566655242"
     },
     "user_tz": 180
    },
    "id": "7f206a0e",
    "outputId": "f79af771-879d-4ae7-a695-02d99df66862"
   },
   "outputs": [
    {
     "data": {
      "image/png": "[encoded data removed]",
      "text/plain": [
       "<Figure size 800x600 with 1 Axes>"
      ]
     },
     "metadata": {},
     "output_type": "display_data"
    }
   ],
   "source": [
    "plt.figure(figsize=(8, 6))\n",
    "\n",
    "plt.boxplot([df[df['year'] == 2009]['fare_amount'],\n",
    "             df[df['year'] == 2010]['fare_amount'],\n",
    "             df[df['year'] == 2011]['fare_amount'],\n",
    "             df[df['year'] == 2012]['fare_amount'],\n",
    "             df[df['year'] == 2013]['fare_amount'],\n",
    "             df[df['year'] == 2014]['fare_amount'],\n",
    "             df[df['year'] == 2015]['fare_amount']],\n",
    "            labels=[2009, 2010, 2011, 2012, 2013, 2014, 2015], showfliers=False)\n",
    "\n",
    "plt.xlabel('Year')\n",
    "plt.ylabel('Fare')\n",
    "plt.title('Year vs. Fare amount')\n",
    "plt.xticks(rotation=45)\n",
    "plt.grid(True)\n",
    "plt.show()"
   ]
  },
  {
   "cell_type": "markdown",
   "id": "c911a3cf",
   "metadata": {
    "id": "QVb7cMXzk-1f"
   },
   "source": [
    "#### We observed a slight increase in ride fares over the years, which could be explained by inflation over time."
   ]
  },
  {
   "cell_type": "markdown",
   "id": "aDRqAmKek-1f",
   "metadata": {
    "id": "aDRqAmKek-1f"
   },
   "source": [
    "####"
   ]
  },
  {
   "cell_type": "markdown",
   "id": "73ddb4eb",
   "metadata": {
    "id": "6efaf621"
   },
   "source": [
    "## Month"
   ]
  },
  {
   "cell_type": "code",
   "execution_count": 55,
   "id": "a689a338",
   "metadata": {
    "colab": {
     "base_uri": "https://localhost:8080/",
     "height": 610
    },
    "executionInfo": {
     "elapsed": 943,
     "status": "ok",
     "timestamp": 1701975188848,
     "user": {
      "displayName": "Hugo Carvalho",
      "userId": "02720238812566655242"
     },
     "user_tz": 180
    },
    "id": "a689a338",
    "outputId": "00ff44a2-5749-4302-ec41-508203e8d9f1",
    "scrolled": false
   },
   "outputs": [
    {
     "data": {
      "image/png": "[encoded data removed]",
      "text/plain": [
       "<Figure size 800x600 with 1 Axes>"
      ]
     },
     "metadata": {},
     "output_type": "display_data"
    }
   ],
   "source": [
    "plt.figure(figsize=(8, 6))\n",
    "\n",
    "plt.boxplot([df[df['month'] == 'january']['fare_amount'],\n",
    "             df[df['month'] == 'february']['fare_amount'],\n",
    "             df[df['month'] == 'march']['fare_amount'],\n",
    "             df[df['month'] == 'april']['fare_amount'],\n",
    "             df[df['month'] == 'may']['fare_amount'],\n",
    "             df[df['month'] == 'june']['fare_amount'],\n",
    "             df[df['month'] == 'july']['fare_amount'],\n",
    "             df[df['month'] == 'august']['fare_amount'],\n",
    "             df[df['month'] == 'september']['fare_amount'],\n",
    "             df[df['month'] == 'october']['fare_amount'],\n",
    "             df[df['month'] == 'november']['fare_amount'],\n",
    "             df[df['month'] == 'december']['fare_amount']],\n",
    "            labels=['january', 'february', 'march', 'april', 'may', 'june',\n",
    "                    'july', 'august', 'september', 'october', 'november', 'december'], showfliers=False)\n",
    "\n",
    "plt.xlabel('Month')\n",
    "plt.ylabel('Fare')\n",
    "plt.title('Month vs. Fare')\n",
    "plt.xticks(rotation=45)\n",
    "plt.grid(True)\n",
    "plt.show()"
   ]
  },
  {
   "cell_type": "markdown",
   "id": "22a69af0",
   "metadata": {
    "id": "BF6UOO75k-1g"
   },
   "source": [
    "#### Once more, there is no discernible impact of the 'month' variable on the ride fares."
   ]
  },
  {
   "cell_type": "markdown",
   "id": "YNbsNoYnk-1g",
   "metadata": {
    "id": "YNbsNoYnk-1g"
   },
   "source": [
    "####"
   ]
  },
  {
   "cell_type": "markdown",
   "id": "a7235195",
   "metadata": {
    "id": "3915a710"
   },
   "source": [
    "## Hour"
   ]
  },
  {
   "cell_type": "code",
   "execution_count": 56,
   "id": "61c1afa5",
   "metadata": {
    "colab": {
     "base_uri": "https://localhost:8080/",
     "height": 573
    },
    "executionInfo": {
     "elapsed": 982,
     "status": "ok",
     "timestamp": 1701975195129,
     "user": {
      "displayName": "Hugo Carvalho",
      "userId": "02720238812566655242"
     },
     "user_tz": 180
    },
    "id": "61c1afa5",
    "outputId": "f1110129-9ba8-4c89-93f4-83bd2e99aa57"
   },
   "outputs": [
    {
     "data": {
      "image/png": "[encoded data removed]",
      "text/plain": [
       "<Figure size 800x600 with 1 Axes>"
      ]
     },
     "metadata": {},
     "output_type": "display_data"
    }
   ],
   "source": [
    "plt.figure(figsize=(8, 6))\n",
    "\n",
    "plt.boxplot([df[df['hour'] == 0]['fare_amount'],\n",
    "             df[df['hour'] == 1]['fare_amount'],\n",
    "             df[df['hour'] == 2]['fare_amount'],\n",
    "             df[df['hour'] == 3]['fare_amount'],\n",
    "             df[df['hour'] == 4]['fare_amount'],\n",
    "             df[df['hour'] == 5]['fare_amount'],\n",
    "             df[df['hour'] == 6]['fare_amount'],\n",
    "             df[df['hour'] == 7]['fare_amount'],\n",
    "             df[df['hour'] == 8]['fare_amount'],\n",
    "             df[df['hour'] == 9]['fare_amount'],\n",
    "             df[df['hour'] == 10]['fare_amount'],\n",
    "             df[df['hour'] == 11]['fare_amount'],\n",
    "             df[df['hour'] == 12]['fare_amount'],\n",
    "             df[df['hour'] == 13]['fare_amount'],\n",
    "             df[df['hour'] == 14]['fare_amount'],\n",
    "             df[df['hour'] == 15]['fare_amount'],\n",
    "             df[df['hour'] == 16]['fare_amount'],\n",
    "             df[df['hour'] == 17]['fare_amount'],\n",
    "             df[df['hour'] == 18]['fare_amount'],\n",
    "             df[df['hour'] == 19]['fare_amount'],\n",
    "             df[df['hour'] == 20]['fare_amount'],\n",
    "             df[df['hour'] == 21]['fare_amount'],\n",
    "             df[df['hour'] == 22]['fare_amount'],\n",
    "             df[df['hour'] == 23]['fare_amount']],\n",
    "            labels=[0,1, 2, 3, 4, 5, 6, 7, 8, 9, 10, 11, 12, 13, 14, 15, 16, 17, 18, 19, 20, 21, 22, 23], showfliers=False)\n",
    "\n",
    "plt.xlabel('Hour')\n",
    "plt.ylabel('Fare')\n",
    "plt.title('Hour vs. Fare')\n",
    "plt.xticks(rotation=45)\n",
    "plt.grid(True)\n",
    "plt.show()"
   ]
  },
  {
   "cell_type": "markdown",
   "id": "9d52b7fd",
   "metadata": {
    "id": "IenWAHOak-1g"
   },
   "source": [
    "#### We observed that the time between 4 and 5 AM stands out, seemingly having slightly higher prices compared to others."
   ]
  },
  {
   "cell_type": "markdown",
   "id": "46Gl8Zz-k-1g",
   "metadata": {
    "id": "46Gl8Zz-k-1g"
   },
   "source": [
    "####"
   ]
  },
  {
   "cell_type": "markdown",
   "id": "979c214b",
   "metadata": {
    "id": "845ecdff"
   },
   "source": [
    "## Rush Hour"
   ]
  },
  {
   "cell_type": "code",
   "execution_count": 57,
   "id": "339ce0f0",
   "metadata": {
    "colab": {
     "base_uri": "https://localhost:8080/",
     "height": 579
    },
    "executionInfo": {
     "elapsed": 436,
     "status": "ok",
     "timestamp": 1701975203034,
     "user": {
      "displayName": "Hugo Carvalho",
      "userId": "02720238812566655242"
     },
     "user_tz": 180
    },
    "id": "339ce0f0",
    "outputId": "1ee214c2-43da-4d4d-ccf7-f11e87a55d84"
   },
   "outputs": [
    {
     "data": {
      "image/png": "[encoded data removed]",
      "text/plain": [
       "<Figure size 800x600 with 1 Axes>"
      ]
     },
     "metadata": {},
     "output_type": "display_data"
    }
   ],
   "source": [
    "plt.figure(figsize=(8, 6))\n",
    "\n",
    "plt.boxplot([df[df['rush_hour'] == True]['fare_amount'],\n",
    "             df[df['rush_hour'] == False]['fare_amount']],\n",
    "            labels=[\"Yes\", \"No\"], showfliers = False)\n",
    "\n",
    "plt.xlabel('Rush Hour')\n",
    "plt.ylabel('Fare')\n",
    "plt.title('Rush Hour vs. Fare')\n",
    "plt.xticks(rotation=45)\n",
    "plt.grid(True)\n",
    "plt.show()"
   ]
  },
  {
   "cell_type": "markdown",
   "id": "9cf2a130",
   "metadata": {
    "id": "Y1UV9MjZk-1g"
   },
   "source": [
    "#### Rush hour did not prove to be a good variable to explain price variation."
   ]
  },
  {
   "cell_type": "markdown",
   "id": "7ZYJpbDWk-1g",
   "metadata": {
    "id": "7ZYJpbDWk-1g"
   },
   "source": [
    "####"
   ]
  },
  {
   "cell_type": "markdown",
   "id": "2aabad31",
   "metadata": {
    "id": "640cf916"
   },
   "source": [
    "## Time Period"
   ]
  },
  {
   "cell_type": "code",
   "execution_count": 58,
   "id": "69414094",
   "metadata": {
    "colab": {
     "base_uri": "https://localhost:8080/",
     "height": 616
    },
    "executionInfo": {
     "elapsed": 4,
     "status": "ok",
     "timestamp": 1701975206161,
     "user": {
      "displayName": "Hugo Carvalho",
      "userId": "02720238812566655242"
     },
     "user_tz": 180
    },
    "id": "69414094",
    "outputId": "71388dfd-b99b-46c8-daf9-ea9ad587edad"
   },
   "outputs": [
    {
     "data": {
      "image/png": "[encoded data removed]",
      "text/plain": [
       "<Figure size 800x600 with 1 Axes>"
      ]
     },
     "metadata": {},
     "output_type": "display_data"
    }
   ],
   "source": [
    "plt.figure(figsize=(8, 6))\n",
    "\n",
    "plt.boxplot([df[df['time_period'] == \"morning\"]['fare_amount'],\n",
    "             df[df['time_period'] == \"afternoon\"]['fare_amount'],\n",
    "             df[df['time_period'] == \"night\"]['fare_amount'],\n",
    "             df[df['time_period'] == \"late night\"]['fare_amount']],\n",
    "            labels=[\"Morning\", \"Afternoon\", \"Night\", \"Late Night\"], showfliers=False)\n",
    "\n",
    "plt.xlabel('Time Period')\n",
    "plt.ylabel('Fare')\n",
    "plt.title('Time period vs. Fare')\n",
    "plt.xticks(rotation=45)\n",
    "plt.grid(True)\n",
    "plt.show()"
   ]
  },
  {
   "cell_type": "markdown",
   "id": "f6156ea9",
   "metadata": {
    "id": "xFz1Ky6Vk-1g"
   },
   "source": [
    "#### Supporting what was observed in the 'hour' variable, we can notice a slight difference in the early morning shift compared to others."
   ]
  },
  {
   "cell_type": "markdown",
   "id": "zegT6Gixk-1h",
   "metadata": {
    "id": "zegT6Gixk-1h"
   },
   "source": [
    "####"
   ]
  },
  {
   "cell_type": "markdown",
   "id": "9afec396",
   "metadata": {
    "id": "d85b2c3e"
   },
   "source": [
    "## Season"
   ]
  },
  {
   "cell_type": "code",
   "execution_count": 59,
   "id": "3cfff7d0",
   "metadata": {
    "colab": {
     "base_uri": "https://localhost:8080/",
     "height": 610
    },
    "executionInfo": {
     "elapsed": 404,
     "status": "ok",
     "timestamp": 1701975211591,
     "user": {
      "displayName": "Hugo Carvalho",
      "userId": "02720238812566655242"
     },
     "user_tz": 180
    },
    "id": "3cfff7d0",
    "outputId": "5e53f420-ae3a-4a3c-bac7-cd68c1cc0214",
    "scrolled": true
   },
   "outputs": [
    {
     "data": {
      "image/png": "[encoded data removed]",
      "text/plain": [
       "<Figure size 800x600 with 1 Axes>"
      ]
     },
     "metadata": {},
     "output_type": "display_data"
    }
   ],
   "source": [
    "df['season']\n",
    "plt.figure(figsize=(8, 6))\n",
    "\n",
    "plt.boxplot([df[df['season'] == \"summer\"]['fare_amount'],\n",
    "             df[df['season'] == \"fall\"]['fare_amount'],\n",
    "             df[df['season'] == \"winter\"]['fare_amount'],\n",
    "             df[df['season'] == \"spring\"]['fare_amount']],\n",
    "            labels=[\"Summer\", \"Fall\", \"Winter\", \"Spring\"], showfliers=False)\n",
    "\n",
    "plt.xlabel('Season')\n",
    "plt.ylabel('Fare')\n",
    "plt.title('Season vs. Fare')\n",
    "plt.xticks(rotation=45)\n",
    "plt.grid(True)\n",
    "plt.show()"
   ]
  },
  {
   "cell_type": "markdown",
   "id": "03c28a0f",
   "metadata": {
    "id": "VcbuCJjSk-1h"
   },
   "source": [
    "#### Apparently, the season of the year does not influence the ride fare."
   ]
  },
  {
   "cell_type": "markdown",
   "id": "0W7IJ8Fsk-1h",
   "metadata": {
    "id": "0W7IJ8Fsk-1h"
   },
   "source": [
    "####"
   ]
  },
  {
   "cell_type": "markdown",
   "id": "59509c1c",
   "metadata": {
    "id": "73671c69"
   },
   "source": [
    "## Models"
   ]
  },
  {
   "cell_type": "code",
   "execution_count": 60,
   "id": "14692a41",
   "metadata": {
    "executionInfo": {
     "elapsed": 976,
     "status": "ok",
     "timestamp": 1701975216912,
     "user": {
      "displayName": "Hugo Carvalho",
      "userId": "02720238812566655242"
     },
     "user_tz": 180
    },
    "id": "14692a41"
   },
   "outputs": [],
   "source": [
    "from sklearn.linear_model import LinearRegression, Ridge, Lasso, ElasticNet\n",
    "from sklearn.preprocessing import StandardScaler\n",
    "from sklearn.compose import ColumnTransformer\n",
    "from sklearn.model_selection import train_test_split, GridSearchCV\n",
    "from sklearn.pipeline import Pipeline\n",
    "from sklearn.metrics import mean_squared_error as MSE\n",
    "from sklearn.metrics import mean_absolute_error as MAE\n",
    "from sklearn.metrics import r2_score as r2\n",
    "from sklearn.neighbors import KNeighborsRegressor\n",
    "from sklearn.ensemble import RandomForestRegressor"
   ]
  },
  {
   "cell_type": "markdown",
   "id": "50d15e05",
   "metadata": {
    "id": "dyu7C98Nk-1h"
   },
   "source": [
    "#### To facilitate model construction, we will split the dataset in half."
   ]
  },
  {
   "cell_type": "code",
   "execution_count": 61,
   "id": "fec5917c",
   "metadata": {
    "executionInfo": {
     "elapsed": 438,
     "status": "ok",
     "timestamp": 1701975222996,
     "user": {
      "displayName": "Hugo Carvalho",
      "userId": "02720238812566655242"
     },
     "user_tz": 180
    },
    "id": "fec5917c"
   },
   "outputs": [],
   "source": [
    "#data_size = len(df) // 2\n",
    "\n",
    "#df = df.sample(n = data_size, random_state=42)"
   ]
  },
  {
   "cell_type": "code",
   "execution_count": 62,
   "id": "68c99270",
   "metadata": {
    "executionInfo": {
     "elapsed": 343,
     "status": "ok",
     "timestamp": 1701975223685,
     "user": {
      "displayName": "Hugo Carvalho",
      "userId": "02720238812566655242"
     },
     "user_tz": 180
    },
    "id": "68c99270"
   },
   "outputs": [],
   "source": [
    "x = df[['distance','year','passenger_count','day_Friday', 'day_Monday',\n",
    "       'day_Saturday', 'day_Sunday', 'day_Thursday', 'day_Tuesday',\n",
    "       'day_Wednesday','period_late night',\n",
    "       'period_morning', 'period_night', 'period_afternoon', 'holiday_False',\n",
    "       'holiday_True', 'season_winter', 'season_fall',\n",
    "       'season_spring', 'season_summer']]\n",
    "y = df['fare_amount']"
   ]
  },
  {
   "cell_type": "code",
   "execution_count": 63,
   "id": "b3086a1a",
   "metadata": {
    "executionInfo": {
     "elapsed": 1,
     "status": "ok",
     "timestamp": 1701975247337,
     "user": {
      "displayName": "Hugo Carvalho",
      "userId": "02720238812566655242"
     },
     "user_tz": 180
    },
    "id": "b3086a1a"
   },
   "outputs": [],
   "source": [
    "LR = LinearRegression()\n",
    "Rid = Ridge()\n",
    "Las = Lasso()\n",
    "ElaNet = ElasticNet()\n",
    "KNN = KNeighborsRegressor()\n",
    "RFR = RandomForestRegressor(n_estimators = 1000, max_depth = None,\n",
    "                            min_samples_leaf = 5, max_features = 'sqrt')"
   ]
  },
  {
   "cell_type": "code",
   "execution_count": 64,
   "id": "148bccd8",
   "metadata": {
    "executionInfo": {
     "elapsed": 3,
     "status": "ok",
     "timestamp": 1701975249024,
     "user": {
      "displayName": "Hugo Carvalho",
      "userId": "02720238812566655242"
     },
     "user_tz": 180
    },
    "id": "148bccd8"
   },
   "outputs": [],
   "source": [
    "param_grid_Las = {\"alpha\": [0.001, 0.01, 0.1, 1, 5, 10, 50, 100]}\n",
    "\n",
    "param_grid_Rid = {\"alpha\": [0.001, 0.01, 0.1, 1, 5, 10, 50, 100]}\n",
    "\n",
    "param_grid_ElaNet = {\"alpha\": [0.001, 0.01, 0.1, 1, 5, 10, 50, 100],\n",
    "                     \"l1_ratio\": [0.1, 0.5, 0.7, 0.9, 0.95, 0.99, 1]}\n",
    "param_grid_KNN = {\"n_neighbors\": range(1,50)}"
   ]
  },
  {
   "cell_type": "code",
   "execution_count": 65,
   "id": "15761b96",
   "metadata": {
    "executionInfo": {
     "elapsed": 359,
     "status": "ok",
     "timestamp": 1701975254385,
     "user": {
      "displayName": "Hugo Carvalho",
      "userId": "02720238812566655242"
     },
     "user_tz": 180
    },
    "id": "15761b96"
   },
   "outputs": [],
   "source": [
    "LasCV = GridSearchCV(Las, param_grid = param_grid_Las, scoring='neg_mean_squared_error', cv = 5, n_jobs=-1)\n",
    "RidCV = GridSearchCV(Rid, param_grid = param_grid_Rid, scoring='neg_mean_squared_error', cv = 5, n_jobs=-1)\n",
    "ElaNetCV = GridSearchCV(ElaNet, param_grid = param_grid_ElaNet, scoring='neg_mean_squared_error', cv = 5, n_jobs=-1)\n",
    "KNNCV = GridSearchCV(KNN, param_grid = param_grid_KNN, scoring='neg_mean_squared_error', cv = 5, n_jobs=-1)"
   ]
  },
  {
   "cell_type": "markdown",
   "id": "10e87d66",
   "metadata": {
    "id": "a60b68d1"
   },
   "source": [
    "### Model with distance"
   ]
  },
  {
   "cell_type": "code",
   "execution_count": 66,
   "id": "999306c8",
   "metadata": {
    "executionInfo": {
     "elapsed": 743,
     "status": "ok",
     "timestamp": 1701975258417,
     "user": {
      "displayName": "Hugo Carvalho",
      "userId": "02720238812566655242"
     },
     "user_tz": 180
    },
    "id": "999306c8"
   },
   "outputs": [],
   "source": [
    "x_dist = df['distance']\n",
    "y_dist = df['fare_amount']"
   ]
  },
  {
   "cell_type": "code",
   "execution_count": 67,
   "id": "6a5ef638",
   "metadata": {
    "executionInfo": {
     "elapsed": 435,
     "status": "ok",
     "timestamp": 1701975259235,
     "user": {
      "displayName": "Hugo Carvalho",
      "userId": "02720238812566655242"
     },
     "user_tz": 180
    },
    "id": "6a5ef638"
   },
   "outputs": [],
   "source": [
    "x_dist_tr, x_dist_tt, y_dist_tr, y_dist_tt = train_test_split(x_dist, y_dist, test_size = 0.3)"
   ]
  },
  {
   "cell_type": "code",
   "execution_count": 68,
   "id": "53cced61",
   "metadata": {
    "executionInfo": {
     "elapsed": 2,
     "status": "ok",
     "timestamp": 1701975260037,
     "user": {
      "displayName": "Hugo Carvalho",
      "userId": "02720238812566655242"
     },
     "user_tz": 180
    },
    "id": "53cced61"
   },
   "outputs": [],
   "source": [
    "x_dist_tr_array = x_dist_tr.to_numpy()\n",
    "\n",
    "x_dist_tr_reshaped = x_dist_tr_array.reshape(-1, 1)\n",
    "\n",
    "x_dist_tt_array = x_dist_tt.to_numpy()\n",
    "\n",
    "x_dist_tt_reshaped = x_dist_tt_array.reshape(-1, 1)"
   ]
  },
  {
   "cell_type": "code",
   "execution_count": 69,
   "id": "c80ee9c3",
   "metadata": {
    "colab": {
     "base_uri": "https://localhost:8080/"
    },
    "executionInfo": {
     "elapsed": 164867,
     "status": "ok",
     "timestamp": 1701975427408,
     "user": {
      "displayName": "Hugo Carvalho",
      "userId": "02720238812566655242"
     },
     "user_tz": 180
    },
    "id": "c80ee9c3",
    "outputId": "1dc15944-d0f8-4e81-f6b5-813c131a28a3"
   },
   "outputs": [
    {
     "name": "stdout",
     "output_type": "stream",
     "text": [
      "Lasso(alpha=0.001)\n",
      "Ridge(alpha=0.001)\n",
      "ElasticNet(alpha=0.001, l1_ratio=1)\n",
      "KNeighborsRegressor(n_neighbors=45)\n"
     ]
    }
   ],
   "source": [
    "LR.fit(x_dist_tr_reshaped , y_dist_tr)\n",
    "LasCV.fit(x_dist_tr_reshaped , y_dist_tr)\n",
    "RidCV.fit(x_dist_tr_reshaped , y_dist_tr)\n",
    "ElaNetCV.fit(x_dist_tr_reshaped , y_dist_tr)\n",
    "KNNCV.fit(x_dist_tr_reshaped , y_dist_tr)\n",
    "RFR.fit(x_dist_tr_reshaped , y_dist_tr)\n",
    "\n",
    "print(LasCV.best_estimator_)\n",
    "print(RidCV.best_estimator_)\n",
    "print(ElaNetCV.best_estimator_)\n",
    "print(KNNCV.best_estimator_)"
   ]
  },
  {
   "cell_type": "code",
   "execution_count": 70,
   "id": "ae84f20b",
   "metadata": {
    "executionInfo": {
     "elapsed": 8182,
     "status": "ok",
     "timestamp": 1701975456918,
     "user": {
      "displayName": "Hugo Carvalho",
      "userId": "02720238812566655242"
     },
     "user_tz": 180
    },
    "id": "ae84f20b"
   },
   "outputs": [],
   "source": [
    "y_dist_tt_predict_LR = LR.predict(x_dist_tt_reshaped)\n",
    "y_dist_tt_predict_Las = LasCV.predict(x_dist_tt_reshaped)\n",
    "y_dist_tt_predict_Rid = RidCV.predict(x_dist_tt_reshaped)\n",
    "y_dist_tt_predict_ElaNet = ElaNetCV.predict(x_dist_tt_reshaped)\n",
    "y_dist_tt_predict_KNN = KNNCV.predict(x_dist_tt_reshaped)\n",
    "y_dist_tt_predict_RFR = RFR.predict(x_dist_tt_reshaped)"
   ]
  },
  {
   "cell_type": "code",
   "execution_count": 71,
   "id": "b78aef0a",
   "metadata": {
    "colab": {
     "base_uri": "https://localhost:8080/"
    },
    "executionInfo": {
     "elapsed": 603,
     "status": "ok",
     "timestamp": 1701975458662,
     "user": {
      "displayName": "Hugo Carvalho",
      "userId": "02720238812566655242"
     },
     "user_tz": 180
    },
    "id": "b78aef0a",
    "outputId": "020d10b8-4068-45c6-ca1c-d494ae5a1b2d"
   },
   "outputs": [
    {
     "name": "stdout",
     "output_type": "stream",
     "text": [
      "MSE Linear Regression:  16.514405841273373\n",
      "MSE Lasso:  16.51439837659186\n",
      "MSE Ridge:  16.514405841140444\n",
      "MSE Elastic Net:  16.51439837659186\n",
      "MSE KNN:  16.499416318220725\n",
      "MSE Random Forest:  17.66577533177446 \n",
      "\n",
      "MAE Linear Regression:  2.2415217071628586\n",
      "MAE Lasso:  2.241530284337084\n",
      "MAE Ridge:  2.2415217073133444\n",
      "MAE Elastic Net:  2.241530284337084\n",
      "MAE KNN:  2.257445264744655\n",
      "MAE Random Forest:  2.4009594659282176 \n",
      "\n",
      "R² Linear Regression:  0.7726904347907109\n",
      "R² Lasso:  0.7726757322627349\n",
      "R² Ridge:  0.7726904345315961\n",
      "R² Elastic Net:  0.7726757322627349\n",
      "R² KNN:  0.7713614589607716\n",
      "R² Random Forest:  0.7643824339472831 \n",
      "\n"
     ]
    }
   ],
   "source": [
    "# MSE\n",
    "print(\"MSE Linear Regression: \", MSE(y_dist_tt_predict_LR, y_dist_tt))\n",
    "print(\"MSE Lasso: \", MSE(y_dist_tt_predict_Las, y_dist_tt))\n",
    "print(\"MSE Ridge: \", MSE(y_dist_tt_predict_Rid, y_dist_tt))\n",
    "print(\"MSE Elastic Net: \", MSE(y_dist_tt_predict_ElaNet, y_dist_tt))\n",
    "print(\"MSE KNN: \", MSE(y_dist_tt_predict_KNN, y_dist_tt))\n",
    "print(\"MSE Random Forest: \", MSE(y_dist_tt_predict_RFR, y_dist_tt), \"\\n\")\n",
    "\n",
    "# MAE\n",
    "print(\"MAE Linear Regression: \", MAE(y_dist_tt_predict_LR, y_dist_tt))\n",
    "print(\"MAE Lasso: \", MAE(y_dist_tt_predict_Las, y_dist_tt))\n",
    "print(\"MAE Ridge: \", MAE(y_dist_tt_predict_Rid, y_dist_tt))\n",
    "print(\"MAE Elastic Net: \", MAE(y_dist_tt_predict_ElaNet, y_dist_tt))\n",
    "print(\"MAE KNN: \", MAE(y_dist_tt_predict_KNN, y_dist_tt))\n",
    "print(\"MAE Random Forest: \", MAE(y_dist_tt_predict_RFR, y_dist_tt), \"\\n\")\n",
    "\n",
    "#R²\n",
    "print(\"R² Linear Regression: \", r2(y_dist_tt_predict_LR, y_dist_tt))\n",
    "print(\"R² Lasso: \", r2(y_dist_tt_predict_Las, y_dist_tt))\n",
    "print(\"R² Ridge: \", r2(y_dist_tt_predict_Rid, y_dist_tt))\n",
    "print(\"R² Elastic Net: \", r2(y_dist_tt_predict_ElaNet, y_dist_tt))\n",
    "print(\"R² KNN: \", r2(y_dist_tt_predict_KNN, y_dist_tt))\n",
    "print(\"R² Random Forest: \", r2(y_dist_tt_predict_RFR, y_dist_tt), \"\\n\")"
   ]
  },
  {
   "cell_type": "markdown",
   "id": "MEDc0XPak-1i",
   "metadata": {
    "id": "MEDc0XPak-1i"
   },
   "source": [
    "####"
   ]
  },
  {
   "cell_type": "markdown",
   "id": "558a6966",
   "metadata": {
    "id": "qMne5IgQk-1i"
   },
   "source": [
    "### Modeling with distance, year and hour"
   ]
  },
  {
   "cell_type": "code",
   "execution_count": 72,
   "id": "0PXs_eN3k-1i",
   "metadata": {
    "id": "0PXs_eN3k-1i"
   },
   "outputs": [],
   "source": [
    "df['new_hour'] = df['hour'].apply(lambda x: x if x in [4, 5] else 'other hours')"
   ]
  },
  {
   "cell_type": "code",
   "execution_count": 73,
   "id": "1bR1x2f3k-1i",
   "metadata": {
    "id": "1bR1x2f3k-1i"
   },
   "outputs": [],
   "source": [
    "hour_one_hot_encoded = pd.get_dummies(df['new_hour'], prefix= 'hour')\n",
    "\n",
    "df = pd.concat([df, hour_one_hot_encoded], axis=1)"
   ]
  },
  {
   "cell_type": "code",
   "execution_count": 74,
   "id": "kWvzOB1Ck-1i",
   "metadata": {
    "id": "kWvzOB1Ck-1i"
   },
   "outputs": [],
   "source": [
    "x_changed = df[['distance','year','hour_4', 'hour_5', 'hour_other hours']]\n",
    "y_changed = df['fare_amount']"
   ]
  },
  {
   "cell_type": "code",
   "execution_count": 75,
   "id": "0PURALctk-1i",
   "metadata": {
    "id": "0PURALctk-1i"
   },
   "outputs": [],
   "source": [
    "x_changed_tr, x_changed_tt, y_changed_tr, y_changed_tt = train_test_split(x_changed, y_changed, test_size = 0.3)"
   ]
  },
  {
   "cell_type": "code",
   "execution_count": 76,
   "id": "39QshY54k-1i",
   "metadata": {
    "id": "39QshY54k-1i"
   },
   "outputs": [
    {
     "name": "stdout",
     "output_type": "stream",
     "text": [
      "Lasso(alpha=0.001)\n",
      "Ridge(alpha=100)\n",
      "ElasticNet(alpha=0.001, l1_ratio=0.1)\n",
      "KNeighborsRegressor(n_neighbors=48)\n"
     ]
    }
   ],
   "source": [
    "LR.fit(x_changed_tr , y_changed_tr)\n",
    "LasCV.fit(x_changed_tr , y_changed_tr)\n",
    "RidCV.fit(x_changed_tr , y_changed_tr)\n",
    "ElaNetCV.fit(x_changed_tr , y_changed_tr)\n",
    "KNNCV.fit(x_changed_tr , y_changed_tr)\n",
    "RFR.fit(x_changed_tr , y_changed_tr)\n",
    "\n",
    "print(LasCV.best_estimator_)\n",
    "print(RidCV.best_estimator_)\n",
    "print(ElaNetCV.best_estimator_)\n",
    "print(KNNCV.best_estimator_)"
   ]
  },
  {
   "cell_type": "code",
   "execution_count": 77,
   "id": "RuN8_17nk-1i",
   "metadata": {
    "id": "RuN8_17nk-1i"
   },
   "outputs": [],
   "source": [
    "y_changed_tt_predict_LR = LR.predict(x_changed_tt)\n",
    "y_changed_tt_predict_Las = LasCV.predict(x_changed_tt)\n",
    "y_changed_tt_predict_Rid = RidCV.predict(x_changed_tt)\n",
    "y_changed_tt_predict_ElaNet = ElaNetCV.predict(x_changed_tt)\n",
    "y_changed_tt_predict_KNN = KNNCV.predict(x_changed_tt)\n",
    "y_changed_tt_predict_RFR = RFR.predict(x_changed_tt)"
   ]
  },
  {
   "cell_type": "code",
   "execution_count": 78,
   "id": "E_14wGvzk-1i",
   "metadata": {
    "id": "E_14wGvzk-1i"
   },
   "outputs": [
    {
     "name": "stdout",
     "output_type": "stream",
     "text": [
      "MSE Linear Regression:  16.946653093007498\n",
      "MSE Lasso:  16.946485021892162\n",
      "MSE Ridge:  16.946620628397504\n",
      "MSE Elastic Net:  16.946623859038397\n",
      "MSE KNN:  15.927904613758932\n",
      "MSE Random Forest:  16.986909567529757 \n",
      "\n",
      "MAE Linear Regression:  2.2009721837471594\n",
      "MAE Lasso:  2.200842039364812\n",
      "MAE Ridge:  2.200925302698853\n",
      "MAE Elastic Net:  2.2009115981976777\n",
      "MAE KNN:  2.098704683238661\n",
      "MAE Random Forest:  2.230424635050737 \n",
      "\n",
      "R² Linear Regression:  0.7732378865644709\n",
      "R² Lasso:  0.773216241710013\n",
      "R² Ridge:  0.7732091471090448\n",
      "R² Elastic Net:  0.7732010420751818\n",
      "R² KNN:  0.7881336153462144\n",
      "R² Random Forest:  0.7805549547403545 \n",
      "\n"
     ]
    }
   ],
   "source": [
    "# MSE\n",
    "print(\"MSE Linear Regression: \", MSE(y_changed_tt_predict_LR, y_changed_tt))\n",
    "print(\"MSE Lasso: \", MSE(y_changed_tt_predict_Las, y_changed_tt))\n",
    "print(\"MSE Ridge: \", MSE(y_changed_tt_predict_Rid, y_changed_tt))\n",
    "print(\"MSE Elastic Net: \", MSE(y_changed_tt_predict_ElaNet, y_changed_tt))\n",
    "print(\"MSE KNN: \", MSE(y_changed_tt_predict_KNN, y_changed_tt))\n",
    "print(\"MSE Random Forest: \", MSE(y_changed_tt_predict_RFR, y_changed_tt), \"\\n\")\n",
    "\n",
    "# MAE\n",
    "print(\"MAE Linear Regression: \", MAE(y_changed_tt_predict_LR, y_changed_tt))\n",
    "print(\"MAE Lasso: \", MAE(y_changed_tt_predict_Las, y_changed_tt))\n",
    "print(\"MAE Ridge: \", MAE(y_changed_tt_predict_Rid, y_changed_tt))\n",
    "print(\"MAE Elastic Net: \", MAE(y_changed_tt_predict_ElaNet, y_changed_tt))\n",
    "print(\"MAE KNN: \", MAE(y_changed_tt_predict_KNN, y_changed_tt))\n",
    "print(\"MAE Random Forest: \", MAE(y_changed_tt_predict_RFR, y_changed_tt), \"\\n\")\n",
    "\n",
    "#R²\n",
    "print(\"R² Linear Regression: \", r2(y_changed_tt_predict_LR, y_changed_tt))\n",
    "print(\"R² Lasso: \", r2(y_changed_tt_predict_Las, y_changed_tt))\n",
    "print(\"R² Ridge: \", r2(y_changed_tt_predict_Rid, y_changed_tt))\n",
    "print(\"R² Elastic Net: \", r2(y_changed_tt_predict_ElaNet, y_changed_tt))\n",
    "print(\"R² KNN: \", r2(y_changed_tt_predict_KNN, y_changed_tt))\n",
    "print(\"R² Random Forest: \", r2(y_changed_tt_predict_RFR, y_changed_tt), \"\\n\")"
   ]
  },
  {
   "cell_type": "code",
   "execution_count": 79,
   "id": "Y-bJX-bSk-1i",
   "metadata": {
    "id": "Y-bJX-bSk-1i"
   },
   "outputs": [
    {
     "data": {
      "text/plain": [
       "array([9.74735418e-01, 2.32811540e-02, 2.89294954e-04, 5.12789243e-04,\n",
       "       1.18134383e-03])"
      ]
     },
     "execution_count": 79,
     "metadata": {},
     "output_type": "execute_result"
    }
   ],
   "source": [
    "RFR.feature_importances_"
   ]
  },
  {
   "cell_type": "code",
   "execution_count": 80,
   "id": "oK7vtDeIk-1i",
   "metadata": {
    "id": "oK7vtDeIk-1i"
   },
   "outputs": [
    {
     "data": {
      "image/png": "[encoded data removed]",
      "text/plain": [
       "<Figure size 640x480 with 1 Axes>"
      ]
     },
     "metadata": {},
     "output_type": "display_data"
    }
   ],
   "source": [
    "plt.stem(RFR.feature_importances_)\n",
    "plt.xticks(range(len(x_changed.columns)), x_changed.columns, rotation = 'vertical')\n",
    "plt.show()"
   ]
  },
  {
   "cell_type": "markdown",
   "id": "51e3b85e",
   "metadata": {
    "id": "eRfDap3-k-1i"
   },
   "source": [
    "### All Features"
   ]
  },
  {
   "cell_type": "code",
   "execution_count": 81,
   "id": "RlK7-EtMk-1i",
   "metadata": {
    "id": "RlK7-EtMk-1i"
   },
   "outputs": [],
   "source": [
    "x_tr, x_tt, y_tr, y_tt = train_test_split(x, y, test_size = 0.3)"
   ]
  },
  {
   "cell_type": "code",
   "execution_count": 82,
   "id": "FW9VqmDVk-1i",
   "metadata": {
    "id": "FW9VqmDVk-1i"
   },
   "outputs": [
    {
     "name": "stdout",
     "output_type": "stream",
     "text": [
      "Lasso(alpha=0.001)\n",
      "Ridge(alpha=100)\n",
      "ElasticNet(alpha=0.001, l1_ratio=0.1)\n",
      "KNeighborsRegressor(n_neighbors=29)\n"
     ]
    }
   ],
   "source": [
    "LR.fit(x_tr , y_tr)\n",
    "LasCV.fit(x_tr , y_tr)\n",
    "RidCV.fit(x_tr , y_tr)\n",
    "ElaNetCV.fit(x_tr , y_tr)\n",
    "KNNCV.fit(x_tr , y_tr)\n",
    "RFR.fit(x_tr , y_tr)\n",
    "\n",
    "print(LasCV.best_estimator_)\n",
    "print(RidCV.best_estimator_)\n",
    "print(ElaNetCV.best_estimator_)\n",
    "print(KNNCV.best_estimator_)\n"
   ]
  },
  {
   "cell_type": "code",
   "execution_count": 83,
   "id": "66seBhDZk-1i",
   "metadata": {
    "id": "66seBhDZk-1i"
   },
   "outputs": [],
   "source": [
    "y_tt_predict_LR = LR.predict(x_tt)\n",
    "y_tt_predict_Las = LasCV.predict(x_tt)\n",
    "y_tt_predict_Rid = RidCV.predict(x_tt)\n",
    "y_tt_predict_ElaNet = ElaNetCV.predict(x_tt)\n",
    "y_tt_predict_KNN = KNNCV.predict(x_tt)\n",
    "y_tt_predict_RFR = RFR.predict(x_tt)"
   ]
  },
  {
   "cell_type": "code",
   "execution_count": 84,
   "id": "LD_zhYgrk-1i",
   "metadata": {
    "id": "LD_zhYgrk-1i"
   },
   "outputs": [
    {
     "name": "stdout",
     "output_type": "stream",
     "text": [
      "MSE Linear Regression:  15.938341484325392\n",
      "MSE Lasso:  15.93767800846773\n",
      "MSE Ridge:  15.937653699678485\n",
      "MSE Elastic Net:  15.937644321655839\n",
      "MSE KNN:  14.616404365048702\n",
      "MSE Random Forest:  15.397411467490228 \n",
      "\n",
      "MAE Linear Regression:  2.149738352939564\n",
      "MAE Lasso:  2.149222757829054\n",
      "MAE Ridge:  2.1495626028118195\n",
      "MAE Elastic Net:  2.1494717351716344\n",
      "MAE KNN:  2.035024915495767\n",
      "MAE Random Forest:  2.09243965656202 \n",
      "\n",
      "R² Linear Regression:  0.7849967455343112\n",
      "R² Lasso:  0.7849627371693619\n",
      "R² Ridge:  0.7849739126007464\n",
      "R² Elastic Net:  0.7849624939549666\n",
      "R² KNN:  0.8022901962735494\n",
      "R² Random Forest:  0.7757503950009029 \n",
      "\n"
     ]
    }
   ],
   "source": [
    "# MSE\n",
    "print(\"MSE Linear Regression: \", MSE(y_tt_predict_LR, y_tt))\n",
    "print(\"MSE Lasso: \", MSE(y_tt_predict_Las, y_tt))\n",
    "print(\"MSE Ridge: \", MSE(y_tt_predict_Rid, y_tt))\n",
    "print(\"MSE Elastic Net: \", MSE(y_tt_predict_ElaNet, y_tt))\n",
    "print(\"MSE KNN: \", MSE(y_tt_predict_KNN, y_tt))\n",
    "print(\"MSE Random Forest: \", MSE(y_tt_predict_RFR, y_tt), \"\\n\")\n",
    "\n",
    "# MAE\n",
    "print(\"MAE Linear Regression: \", MAE(y_tt_predict_LR, y_tt))\n",
    "print(\"MAE Lasso: \", MAE(y_tt_predict_Las, y_tt))\n",
    "print(\"MAE Ridge: \", MAE(y_tt_predict_Rid, y_tt))\n",
    "print(\"MAE Elastic Net: \", MAE(y_tt_predict_ElaNet, y_tt))\n",
    "print(\"MAE KNN: \", MAE(y_tt_predict_KNN, y_tt))\n",
    "print(\"MAE Random Forest: \", MAE(y_tt_predict_RFR, y_tt), \"\\n\")\n",
    "\n",
    "#R²\n",
    "print(\"R² Linear Regression: \", r2(y_tt_predict_LR, y_tt))\n",
    "print(\"R² Lasso: \", r2(y_tt_predict_Las, y_tt))\n",
    "print(\"R² Ridge: \", r2(y_tt_predict_Rid, y_tt))\n",
    "print(\"R² Elastic Net: \", r2(y_tt_predict_ElaNet, y_tt))\n",
    "print(\"R² KNN: \", r2(y_tt_predict_KNN, y_tt))\n",
    "print(\"R² Random Forest: \", r2(y_tt_predict_RFR, y_tt), \"\\n\")"
   ]
  },
  {
   "cell_type": "code",
   "execution_count": 93,
   "id": "b34f7c86",
   "metadata": {},
   "outputs": [
    {
     "data": {
      "text/html": [
       "<div>\n",
       "<style scoped>\n",
       "    .dataframe tbody tr th:only-of-type {\n",
       "        vertical-align: middle;\n",
       "    }\n",
       "\n",
       "    .dataframe tbody tr th {\n",
       "        vertical-align: top;\n",
       "    }\n",
       "\n",
       "    .dataframe thead th {\n",
       "        text-align: right;\n",
       "    }\n",
       "</style>\n",
       "<table border=\"1\" class=\"dataframe\">\n",
       "  <thead>\n",
       "    <tr style=\"text-align: right;\">\n",
       "      <th></th>\n",
       "      <th>Feature</th>\n",
       "      <th>Lasso Coefficient</th>\n",
       "    </tr>\n",
       "  </thead>\n",
       "  <tbody>\n",
       "    <tr>\n",
       "      <th>0</th>\n",
       "      <td>distance</td>\n",
       "      <td>2.369142e+00</td>\n",
       "    </tr>\n",
       "    <tr>\n",
       "      <th>1</th>\n",
       "      <td>year</td>\n",
       "      <td>5.171727e-01</td>\n",
       "    </tr>\n",
       "    <tr>\n",
       "      <th>2</th>\n",
       "      <td>passenger_count</td>\n",
       "      <td>5.713598e-02</td>\n",
       "    </tr>\n",
       "    <tr>\n",
       "      <th>3</th>\n",
       "      <td>day_Friday</td>\n",
       "      <td>1.994805e-01</td>\n",
       "    </tr>\n",
       "    <tr>\n",
       "      <th>4</th>\n",
       "      <td>day_Monday</td>\n",
       "      <td>-1.857204e-01</td>\n",
       "    </tr>\n",
       "    <tr>\n",
       "      <th>5</th>\n",
       "      <td>day_Saturday</td>\n",
       "      <td>-2.352866e-01</td>\n",
       "    </tr>\n",
       "    <tr>\n",
       "      <th>6</th>\n",
       "      <td>day_Sunday</td>\n",
       "      <td>-3.561368e-01</td>\n",
       "    </tr>\n",
       "    <tr>\n",
       "      <th>7</th>\n",
       "      <td>day_Thursday</td>\n",
       "      <td>1.799640e-01</td>\n",
       "    </tr>\n",
       "    <tr>\n",
       "      <th>8</th>\n",
       "      <td>day_Tuesday</td>\n",
       "      <td>0.000000e+00</td>\n",
       "    </tr>\n",
       "    <tr>\n",
       "      <th>9</th>\n",
       "      <td>day_Wednesday</td>\n",
       "      <td>1.624439e-01</td>\n",
       "    </tr>\n",
       "    <tr>\n",
       "      <th>10</th>\n",
       "      <td>period_late night</td>\n",
       "      <td>-1.014113e+00</td>\n",
       "    </tr>\n",
       "    <tr>\n",
       "      <th>11</th>\n",
       "      <td>period_morning</td>\n",
       "      <td>0.000000e+00</td>\n",
       "    </tr>\n",
       "    <tr>\n",
       "      <th>12</th>\n",
       "      <td>period_night</td>\n",
       "      <td>-4.433056e-01</td>\n",
       "    </tr>\n",
       "    <tr>\n",
       "      <th>13</th>\n",
       "      <td>period_afternoon</td>\n",
       "      <td>4.755916e-01</td>\n",
       "    </tr>\n",
       "    <tr>\n",
       "      <th>14</th>\n",
       "      <td>holiday_False</td>\n",
       "      <td>4.990881e-01</td>\n",
       "    </tr>\n",
       "    <tr>\n",
       "      <th>15</th>\n",
       "      <td>holiday_True</td>\n",
       "      <td>-3.738959e-15</td>\n",
       "    </tr>\n",
       "    <tr>\n",
       "      <th>16</th>\n",
       "      <td>season_winter</td>\n",
       "      <td>8.680554e-03</td>\n",
       "    </tr>\n",
       "    <tr>\n",
       "      <th>17</th>\n",
       "      <td>season_fall</td>\n",
       "      <td>4.450361e-01</td>\n",
       "    </tr>\n",
       "    <tr>\n",
       "      <th>18</th>\n",
       "      <td>season_spring</td>\n",
       "      <td>-6.060046e-02</td>\n",
       "    </tr>\n",
       "    <tr>\n",
       "      <th>19</th>\n",
       "      <td>season_summer</td>\n",
       "      <td>-8.756493e-02</td>\n",
       "    </tr>\n",
       "  </tbody>\n",
       "</table>\n",
       "</div>"
      ],
      "text/plain": [
       "              Feature  Lasso Coefficient\n",
       "0            distance       2.369142e+00\n",
       "1                year       5.171727e-01\n",
       "2     passenger_count       5.713598e-02\n",
       "3          day_Friday       1.994805e-01\n",
       "4          day_Monday      -1.857204e-01\n",
       "5        day_Saturday      -2.352866e-01\n",
       "6          day_Sunday      -3.561368e-01\n",
       "7        day_Thursday       1.799640e-01\n",
       "8         day_Tuesday       0.000000e+00\n",
       "9       day_Wednesday       1.624439e-01\n",
       "10  period_late night      -1.014113e+00\n",
       "11     period_morning       0.000000e+00\n",
       "12       period_night      -4.433056e-01\n",
       "13   period_afternoon       4.755916e-01\n",
       "14      holiday_False       4.990881e-01\n",
       "15       holiday_True      -3.738959e-15\n",
       "16      season_winter       8.680554e-03\n",
       "17        season_fall       4.450361e-01\n",
       "18      season_spring      -6.060046e-02\n",
       "19      season_summer      -8.756493e-02"
      ]
     },
     "execution_count": 93,
     "metadata": {},
     "output_type": "execute_result"
    }
   ],
   "source": [
    "lasso_coef = pd.DataFrame({'Feature': x.columns, 'Lasso Coefficient': LasCV.best_estimator_.coef_})\n",
    "lasso_coef"
   ]
  },
  {
   "cell_type": "markdown",
   "id": "6350aa62",
   "metadata": {},
   "source": [
    "#### Lasso regression revealed that the coefficients of the attributes 'day_Tuesday' and 'period_morning' were zeroed, indicating these attributes do not significantly contribute to the predictive model, potentially being less relevant or redundant."
   ]
  },
  {
   "cell_type": "code",
   "execution_count": 87,
   "id": "KZwvy8zSk-1j",
   "metadata": {
    "id": "KZwvy8zSk-1j"
   },
   "outputs": [
    {
     "data": {
      "image/png": "[encoded data removed]",
      "text/plain": [
       "<Figure size 640x480 with 1 Axes>"
      ]
     },
     "metadata": {},
     "output_type": "display_data"
    }
   ],
   "source": [
    "plt.stem(RFR.feature_importances_)\n",
    "plt.xticks(range(len(x.columns)), x.columns, rotation = 'vertical')\n",
    "plt.show()"
   ]
  },
  {
   "cell_type": "markdown",
   "id": "oZaIXggLk-1j",
   "metadata": {
    "id": "oZaIXggLk-1j"
   },
   "source": [
    "####"
   ]
  },
  {
   "cell_type": "markdown",
   "id": "28284ed5",
   "metadata": {
    "id": "m_T6V0Itk-1j"
   },
   "source": [
    "#### Following the exploratory data analysis, modeling commenced based on the most promising features for explaining the fare value.\n",
    "#### The initial model exclusively factored in distance, given its notable prominence both visually and numerically.\n",
    "#### Subsequently, considerations expanded to encompass not only distance but also time and year. Within the time variable, a distinction was made for the hours 4 and 5, recognized as particularly influential in this category.\n",
    "#### Eventually, all remaining features were included for consideration, as none exhibited significant prominence. This approach was chosen for comparative purposes.\n",
    "#### Despite distance initially appearing as the sole highly influential variable, upon comparing the $R^2$, MSE, and MAE of the three models, the one incorporating all features emerged as the best performer.\n",
    "#### Following a comprehensive analysis, the conclusion drawn is that the Lasso regression model, encompassing all features, distinguishes itself as a superior model due to its good interpretability and inherent feature selection capability. Despite these strengths, it also yielded similar performance metrics (MSE, MAE, and $R^2$) when compared to the other models."
   ]
  }
 ],
 "metadata": {
  "colab": {
   "provenance": []
  },
  "kernelspec": {
   "display_name": "Python 3 (ipykernel)",
   "language": "python",
   "name": "python3"
  },
  "language_info": {
   "codemirror_mode": {
    "name": "ipython",
    "version": 3
   },
   "file_extension": ".py",
   "mimetype": "text/x-python",
   "name": "python",
   "nbconvert_exporter": "python",
   "pygments_lexer": "ipython3",
   "version": "3.11.4"
  }
 },
 "nbformat": 4,
 "nbformat_minor": 5
}
